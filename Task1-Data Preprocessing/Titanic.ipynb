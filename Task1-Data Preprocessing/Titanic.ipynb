{
  "nbformat": 4,
  "nbformat_minor": 0,
  "metadata": {
    "colab": {
      "provenance": []
    },
    "kernelspec": {
      "name": "python3",
      "display_name": "Python 3"
    },
    "language_info": {
      "name": "python"
    }
  },
  "cells": [
    {
      "cell_type": "code",
      "source": [
        "from google.colab import drive\n",
        "drive.mount('/content/drive')"
      ],
      "metadata": {
        "colab": {
          "base_uri": "https://localhost:8080/"
        },
        "id": "x4xCpHfe2A1p",
        "outputId": "b7671fe0-75d1-4d00-c864-f2c5a0d9e4ab"
      },
      "execution_count": null,
      "outputs": [
        {
          "output_type": "stream",
          "name": "stdout",
          "text": [
            "Mounted at /content/drive\n"
          ]
        }
      ]
    },
    {
      "cell_type": "code",
      "source": [
        "!mkdir -p /content/drive/MyDrive/titanic_backup"
      ],
      "metadata": {
        "id": "8TOnVDWQ3ghm"
      },
      "execution_count": null,
      "outputs": []
    },
    {
      "cell_type": "code",
      "source": [
        "!cp train.csv /content/drive/MyDrive/titanic_backup/\n",
        "!cp test.csv /content/drive/MyDrive/titanic_backup/\n",
        "!cp model.pkl /content/drive/MyDrive/titanic_backup/\n",
        "!cp submission.csv /content/drive/MyDrive/titanic_backup/"
      ],
      "metadata": {
        "id": "G1Uj7Jb-3lzZ"
      },
      "execution_count": null,
      "outputs": []
    },
    {
      "cell_type": "markdown",
      "source": [
        "# ***Data Preprocessing***"
      ],
      "metadata": {
        "id": "tJTb610F2vIL"
      }
    },
    {
      "cell_type": "markdown",
      "source": [
        "**Loading Datasets**"
      ],
      "metadata": {
        "id": "S6hPclDnK7b4"
      }
    },
    {
      "cell_type": "markdown",
      "source": [
        "Importing libraries,loading data and previewing training dataset"
      ],
      "metadata": {
        "id": "7u4R3JAB8CFr"
      }
    },
    {
      "cell_type": "code",
      "source": [
        "import pandas as pd\n",
        "train_df=pd.read_csv(\"train.csv\")\n",
        "test_df=pd.read_csv(\"test.csv\")\n",
        "train_df.head()"
      ],
      "metadata": {
        "colab": {
          "base_uri": "https://localhost:8080/",
          "height": 504
        },
        "id": "aEw1oOecmmGs",
        "outputId": "4632f763-acf5-4a9d-9d08-50c64e4f0919"
      },
      "execution_count": null,
      "outputs": [
        {
          "output_type": "execute_result",
          "data": {
            "text/plain": [
              "   PassengerId  Survived  Pclass  \\\n",
              "0            1         0       3   \n",
              "1            2         1       1   \n",
              "2            3         1       3   \n",
              "3            4         1       1   \n",
              "4            5         0       3   \n",
              "\n",
              "                                                Name     Sex   Age  SibSp  \\\n",
              "0                            Braund, Mr. Owen Harris    male  22.0      1   \n",
              "1  Cumings, Mrs. John Bradley (Florence Briggs Th...  female  38.0      1   \n",
              "2                             Heikkinen, Miss. Laina  female  26.0      0   \n",
              "3       Futrelle, Mrs. Jacques Heath (Lily May Peel)  female  35.0      1   \n",
              "4                           Allen, Mr. William Henry    male  35.0      0   \n",
              "\n",
              "   Parch            Ticket     Fare Cabin Embarked  \n",
              "0      0         A/5 21171   7.2500   NaN        S  \n",
              "1      0          PC 17599  71.2833   C85        C  \n",
              "2      0  STON/O2. 3101282   7.9250   NaN        S  \n",
              "3      0            113803  53.1000  C123        S  \n",
              "4      0            373450   8.0500   NaN        S  "
            ],
            "text/html": [
              "\n",
              "  <div id=\"df-41191523-ac8f-4d40-b434-ecda83b57a94\" class=\"colab-df-container\">\n",
              "    <div>\n",
              "<style scoped>\n",
              "    .dataframe tbody tr th:only-of-type {\n",
              "        vertical-align: middle;\n",
              "    }\n",
              "\n",
              "    .dataframe tbody tr th {\n",
              "        vertical-align: top;\n",
              "    }\n",
              "\n",
              "    .dataframe thead th {\n",
              "        text-align: right;\n",
              "    }\n",
              "</style>\n",
              "<table border=\"1\" class=\"dataframe\">\n",
              "  <thead>\n",
              "    <tr style=\"text-align: right;\">\n",
              "      <th></th>\n",
              "      <th>PassengerId</th>\n",
              "      <th>Survived</th>\n",
              "      <th>Pclass</th>\n",
              "      <th>Name</th>\n",
              "      <th>Sex</th>\n",
              "      <th>Age</th>\n",
              "      <th>SibSp</th>\n",
              "      <th>Parch</th>\n",
              "      <th>Ticket</th>\n",
              "      <th>Fare</th>\n",
              "      <th>Cabin</th>\n",
              "      <th>Embarked</th>\n",
              "    </tr>\n",
              "  </thead>\n",
              "  <tbody>\n",
              "    <tr>\n",
              "      <th>0</th>\n",
              "      <td>1</td>\n",
              "      <td>0</td>\n",
              "      <td>3</td>\n",
              "      <td>Braund, Mr. Owen Harris</td>\n",
              "      <td>male</td>\n",
              "      <td>22.0</td>\n",
              "      <td>1</td>\n",
              "      <td>0</td>\n",
              "      <td>A/5 21171</td>\n",
              "      <td>7.2500</td>\n",
              "      <td>NaN</td>\n",
              "      <td>S</td>\n",
              "    </tr>\n",
              "    <tr>\n",
              "      <th>1</th>\n",
              "      <td>2</td>\n",
              "      <td>1</td>\n",
              "      <td>1</td>\n",
              "      <td>Cumings, Mrs. John Bradley (Florence Briggs Th...</td>\n",
              "      <td>female</td>\n",
              "      <td>38.0</td>\n",
              "      <td>1</td>\n",
              "      <td>0</td>\n",
              "      <td>PC 17599</td>\n",
              "      <td>71.2833</td>\n",
              "      <td>C85</td>\n",
              "      <td>C</td>\n",
              "    </tr>\n",
              "    <tr>\n",
              "      <th>2</th>\n",
              "      <td>3</td>\n",
              "      <td>1</td>\n",
              "      <td>3</td>\n",
              "      <td>Heikkinen, Miss. Laina</td>\n",
              "      <td>female</td>\n",
              "      <td>26.0</td>\n",
              "      <td>0</td>\n",
              "      <td>0</td>\n",
              "      <td>STON/O2. 3101282</td>\n",
              "      <td>7.9250</td>\n",
              "      <td>NaN</td>\n",
              "      <td>S</td>\n",
              "    </tr>\n",
              "    <tr>\n",
              "      <th>3</th>\n",
              "      <td>4</td>\n",
              "      <td>1</td>\n",
              "      <td>1</td>\n",
              "      <td>Futrelle, Mrs. Jacques Heath (Lily May Peel)</td>\n",
              "      <td>female</td>\n",
              "      <td>35.0</td>\n",
              "      <td>1</td>\n",
              "      <td>0</td>\n",
              "      <td>113803</td>\n",
              "      <td>53.1000</td>\n",
              "      <td>C123</td>\n",
              "      <td>S</td>\n",
              "    </tr>\n",
              "    <tr>\n",
              "      <th>4</th>\n",
              "      <td>5</td>\n",
              "      <td>0</td>\n",
              "      <td>3</td>\n",
              "      <td>Allen, Mr. William Henry</td>\n",
              "      <td>male</td>\n",
              "      <td>35.0</td>\n",
              "      <td>0</td>\n",
              "      <td>0</td>\n",
              "      <td>373450</td>\n",
              "      <td>8.0500</td>\n",
              "      <td>NaN</td>\n",
              "      <td>S</td>\n",
              "    </tr>\n",
              "  </tbody>\n",
              "</table>\n",
              "</div>\n",
              "    <div class=\"colab-df-buttons\">\n",
              "\n",
              "  <div class=\"colab-df-container\">\n",
              "    <button class=\"colab-df-convert\" onclick=\"convertToInteractive('df-41191523-ac8f-4d40-b434-ecda83b57a94')\"\n",
              "            title=\"Convert this dataframe to an interactive table.\"\n",
              "            style=\"display:none;\">\n",
              "\n",
              "  <svg xmlns=\"http://www.w3.org/2000/svg\" height=\"24px\" viewBox=\"0 -960 960 960\">\n",
              "    <path d=\"M120-120v-720h720v720H120Zm60-500h600v-160H180v160Zm220 220h160v-160H400v160Zm0 220h160v-160H400v160ZM180-400h160v-160H180v160Zm440 0h160v-160H620v160ZM180-180h160v-160H180v160Zm440 0h160v-160H620v160Z\"/>\n",
              "  </svg>\n",
              "    </button>\n",
              "\n",
              "  <style>\n",
              "    .colab-df-container {\n",
              "      display:flex;\n",
              "      gap: 12px;\n",
              "    }\n",
              "\n",
              "    .colab-df-convert {\n",
              "      background-color: #E8F0FE;\n",
              "      border: none;\n",
              "      border-radius: 50%;\n",
              "      cursor: pointer;\n",
              "      display: none;\n",
              "      fill: #1967D2;\n",
              "      height: 32px;\n",
              "      padding: 0 0 0 0;\n",
              "      width: 32px;\n",
              "    }\n",
              "\n",
              "    .colab-df-convert:hover {\n",
              "      background-color: #E2EBFA;\n",
              "      box-shadow: 0px 1px 2px rgba(60, 64, 67, 0.3), 0px 1px 3px 1px rgba(60, 64, 67, 0.15);\n",
              "      fill: #174EA6;\n",
              "    }\n",
              "\n",
              "    .colab-df-buttons div {\n",
              "      margin-bottom: 4px;\n",
              "    }\n",
              "\n",
              "    [theme=dark] .colab-df-convert {\n",
              "      background-color: #3B4455;\n",
              "      fill: #D2E3FC;\n",
              "    }\n",
              "\n",
              "    [theme=dark] .colab-df-convert:hover {\n",
              "      background-color: #434B5C;\n",
              "      box-shadow: 0px 1px 3px 1px rgba(0, 0, 0, 0.15);\n",
              "      filter: drop-shadow(0px 1px 2px rgba(0, 0, 0, 0.3));\n",
              "      fill: #FFFFFF;\n",
              "    }\n",
              "  </style>\n",
              "\n",
              "    <script>\n",
              "      const buttonEl =\n",
              "        document.querySelector('#df-41191523-ac8f-4d40-b434-ecda83b57a94 button.colab-df-convert');\n",
              "      buttonEl.style.display =\n",
              "        google.colab.kernel.accessAllowed ? 'block' : 'none';\n",
              "\n",
              "      async function convertToInteractive(key) {\n",
              "        const element = document.querySelector('#df-41191523-ac8f-4d40-b434-ecda83b57a94');\n",
              "        const dataTable =\n",
              "          await google.colab.kernel.invokeFunction('convertToInteractive',\n",
              "                                                    [key], {});\n",
              "        if (!dataTable) return;\n",
              "\n",
              "        const docLinkHtml = 'Like what you see? Visit the ' +\n",
              "          '<a target=\"_blank\" href=https://colab.research.google.com/notebooks/data_table.ipynb>data table notebook</a>'\n",
              "          + ' to learn more about interactive tables.';\n",
              "        element.innerHTML = '';\n",
              "        dataTable['output_type'] = 'display_data';\n",
              "        await google.colab.output.renderOutput(dataTable, element);\n",
              "        const docLink = document.createElement('div');\n",
              "        docLink.innerHTML = docLinkHtml;\n",
              "        element.appendChild(docLink);\n",
              "      }\n",
              "    </script>\n",
              "  </div>\n",
              "\n",
              "\n",
              "    <div id=\"df-e929d342-8110-4ff5-95be-8a64298e33f0\">\n",
              "      <button class=\"colab-df-quickchart\" onclick=\"quickchart('df-e929d342-8110-4ff5-95be-8a64298e33f0')\"\n",
              "                title=\"Suggest charts\"\n",
              "                style=\"display:none;\">\n",
              "\n",
              "<svg xmlns=\"http://www.w3.org/2000/svg\" height=\"24px\"viewBox=\"0 0 24 24\"\n",
              "     width=\"24px\">\n",
              "    <g>\n",
              "        <path d=\"M19 3H5c-1.1 0-2 .9-2 2v14c0 1.1.9 2 2 2h14c1.1 0 2-.9 2-2V5c0-1.1-.9-2-2-2zM9 17H7v-7h2v7zm4 0h-2V7h2v10zm4 0h-2v-4h2v4z\"/>\n",
              "    </g>\n",
              "</svg>\n",
              "      </button>\n",
              "\n",
              "<style>\n",
              "  .colab-df-quickchart {\n",
              "      --bg-color: #E8F0FE;\n",
              "      --fill-color: #1967D2;\n",
              "      --hover-bg-color: #E2EBFA;\n",
              "      --hover-fill-color: #174EA6;\n",
              "      --disabled-fill-color: #AAA;\n",
              "      --disabled-bg-color: #DDD;\n",
              "  }\n",
              "\n",
              "  [theme=dark] .colab-df-quickchart {\n",
              "      --bg-color: #3B4455;\n",
              "      --fill-color: #D2E3FC;\n",
              "      --hover-bg-color: #434B5C;\n",
              "      --hover-fill-color: #FFFFFF;\n",
              "      --disabled-bg-color: #3B4455;\n",
              "      --disabled-fill-color: #666;\n",
              "  }\n",
              "\n",
              "  .colab-df-quickchart {\n",
              "    background-color: var(--bg-color);\n",
              "    border: none;\n",
              "    border-radius: 50%;\n",
              "    cursor: pointer;\n",
              "    display: none;\n",
              "    fill: var(--fill-color);\n",
              "    height: 32px;\n",
              "    padding: 0;\n",
              "    width: 32px;\n",
              "  }\n",
              "\n",
              "  .colab-df-quickchart:hover {\n",
              "    background-color: var(--hover-bg-color);\n",
              "    box-shadow: 0 1px 2px rgba(60, 64, 67, 0.3), 0 1px 3px 1px rgba(60, 64, 67, 0.15);\n",
              "    fill: var(--button-hover-fill-color);\n",
              "  }\n",
              "\n",
              "  .colab-df-quickchart-complete:disabled,\n",
              "  .colab-df-quickchart-complete:disabled:hover {\n",
              "    background-color: var(--disabled-bg-color);\n",
              "    fill: var(--disabled-fill-color);\n",
              "    box-shadow: none;\n",
              "  }\n",
              "\n",
              "  .colab-df-spinner {\n",
              "    border: 2px solid var(--fill-color);\n",
              "    border-color: transparent;\n",
              "    border-bottom-color: var(--fill-color);\n",
              "    animation:\n",
              "      spin 1s steps(1) infinite;\n",
              "  }\n",
              "\n",
              "  @keyframes spin {\n",
              "    0% {\n",
              "      border-color: transparent;\n",
              "      border-bottom-color: var(--fill-color);\n",
              "      border-left-color: var(--fill-color);\n",
              "    }\n",
              "    20% {\n",
              "      border-color: transparent;\n",
              "      border-left-color: var(--fill-color);\n",
              "      border-top-color: var(--fill-color);\n",
              "    }\n",
              "    30% {\n",
              "      border-color: transparent;\n",
              "      border-left-color: var(--fill-color);\n",
              "      border-top-color: var(--fill-color);\n",
              "      border-right-color: var(--fill-color);\n",
              "    }\n",
              "    40% {\n",
              "      border-color: transparent;\n",
              "      border-right-color: var(--fill-color);\n",
              "      border-top-color: var(--fill-color);\n",
              "    }\n",
              "    60% {\n",
              "      border-color: transparent;\n",
              "      border-right-color: var(--fill-color);\n",
              "    }\n",
              "    80% {\n",
              "      border-color: transparent;\n",
              "      border-right-color: var(--fill-color);\n",
              "      border-bottom-color: var(--fill-color);\n",
              "    }\n",
              "    90% {\n",
              "      border-color: transparent;\n",
              "      border-bottom-color: var(--fill-color);\n",
              "    }\n",
              "  }\n",
              "</style>\n",
              "\n",
              "      <script>\n",
              "        async function quickchart(key) {\n",
              "          const quickchartButtonEl =\n",
              "            document.querySelector('#' + key + ' button');\n",
              "          quickchartButtonEl.disabled = true;  // To prevent multiple clicks.\n",
              "          quickchartButtonEl.classList.add('colab-df-spinner');\n",
              "          try {\n",
              "            const charts = await google.colab.kernel.invokeFunction(\n",
              "                'suggestCharts', [key], {});\n",
              "          } catch (error) {\n",
              "            console.error('Error during call to suggestCharts:', error);\n",
              "          }\n",
              "          quickchartButtonEl.classList.remove('colab-df-spinner');\n",
              "          quickchartButtonEl.classList.add('colab-df-quickchart-complete');\n",
              "        }\n",
              "        (() => {\n",
              "          let quickchartButtonEl =\n",
              "            document.querySelector('#df-e929d342-8110-4ff5-95be-8a64298e33f0 button');\n",
              "          quickchartButtonEl.style.display =\n",
              "            google.colab.kernel.accessAllowed ? 'block' : 'none';\n",
              "        })();\n",
              "      </script>\n",
              "    </div>\n",
              "\n",
              "    </div>\n",
              "  </div>\n"
            ],
            "application/vnd.google.colaboratory.intrinsic+json": {
              "type": "dataframe",
              "variable_name": "train_df",
              "summary": "{\n  \"name\": \"train_df\",\n  \"rows\": 891,\n  \"fields\": [\n    {\n      \"column\": \"PassengerId\",\n      \"properties\": {\n        \"dtype\": \"number\",\n        \"std\": 257,\n        \"min\": 1,\n        \"max\": 891,\n        \"num_unique_values\": 891,\n        \"samples\": [\n          710,\n          440,\n          841\n        ],\n        \"semantic_type\": \"\",\n        \"description\": \"\"\n      }\n    },\n    {\n      \"column\": \"Survived\",\n      \"properties\": {\n        \"dtype\": \"number\",\n        \"std\": 0,\n        \"min\": 0,\n        \"max\": 1,\n        \"num_unique_values\": 2,\n        \"samples\": [\n          1,\n          0\n        ],\n        \"semantic_type\": \"\",\n        \"description\": \"\"\n      }\n    },\n    {\n      \"column\": \"Pclass\",\n      \"properties\": {\n        \"dtype\": \"number\",\n        \"std\": 0,\n        \"min\": 1,\n        \"max\": 3,\n        \"num_unique_values\": 3,\n        \"samples\": [\n          3,\n          1\n        ],\n        \"semantic_type\": \"\",\n        \"description\": \"\"\n      }\n    },\n    {\n      \"column\": \"Name\",\n      \"properties\": {\n        \"dtype\": \"string\",\n        \"num_unique_values\": 891,\n        \"samples\": [\n          \"Moubarek, Master. Halim Gonios (\\\"William George\\\")\",\n          \"Kvillner, Mr. Johan Henrik Johannesson\"\n        ],\n        \"semantic_type\": \"\",\n        \"description\": \"\"\n      }\n    },\n    {\n      \"column\": \"Sex\",\n      \"properties\": {\n        \"dtype\": \"category\",\n        \"num_unique_values\": 2,\n        \"samples\": [\n          \"female\",\n          \"male\"\n        ],\n        \"semantic_type\": \"\",\n        \"description\": \"\"\n      }\n    },\n    {\n      \"column\": \"Age\",\n      \"properties\": {\n        \"dtype\": \"number\",\n        \"std\": 14.526497332334044,\n        \"min\": 0.42,\n        \"max\": 80.0,\n        \"num_unique_values\": 88,\n        \"samples\": [\n          0.75,\n          22.0\n        ],\n        \"semantic_type\": \"\",\n        \"description\": \"\"\n      }\n    },\n    {\n      \"column\": \"SibSp\",\n      \"properties\": {\n        \"dtype\": \"number\",\n        \"std\": 1,\n        \"min\": 0,\n        \"max\": 8,\n        \"num_unique_values\": 7,\n        \"samples\": [\n          1,\n          0\n        ],\n        \"semantic_type\": \"\",\n        \"description\": \"\"\n      }\n    },\n    {\n      \"column\": \"Parch\",\n      \"properties\": {\n        \"dtype\": \"number\",\n        \"std\": 0,\n        \"min\": 0,\n        \"max\": 6,\n        \"num_unique_values\": 7,\n        \"samples\": [\n          0,\n          1\n        ],\n        \"semantic_type\": \"\",\n        \"description\": \"\"\n      }\n    },\n    {\n      \"column\": \"Ticket\",\n      \"properties\": {\n        \"dtype\": \"string\",\n        \"num_unique_values\": 681,\n        \"samples\": [\n          \"11774\",\n          \"248740\"\n        ],\n        \"semantic_type\": \"\",\n        \"description\": \"\"\n      }\n    },\n    {\n      \"column\": \"Fare\",\n      \"properties\": {\n        \"dtype\": \"number\",\n        \"std\": 49.693428597180905,\n        \"min\": 0.0,\n        \"max\": 512.3292,\n        \"num_unique_values\": 248,\n        \"samples\": [\n          11.2417,\n          51.8625\n        ],\n        \"semantic_type\": \"\",\n        \"description\": \"\"\n      }\n    },\n    {\n      \"column\": \"Cabin\",\n      \"properties\": {\n        \"dtype\": \"category\",\n        \"num_unique_values\": 147,\n        \"samples\": [\n          \"D45\",\n          \"B49\"\n        ],\n        \"semantic_type\": \"\",\n        \"description\": \"\"\n      }\n    },\n    {\n      \"column\": \"Embarked\",\n      \"properties\": {\n        \"dtype\": \"category\",\n        \"num_unique_values\": 3,\n        \"samples\": [\n          \"S\",\n          \"C\"\n        ],\n        \"semantic_type\": \"\",\n        \"description\": \"\"\n      }\n    }\n  ]\n}"
            }
          },
          "metadata": {},
          "execution_count": 1
        }
      ]
    },
    {
      "cell_type": "markdown",
      "source": [
        "Previewing the test dataset"
      ],
      "metadata": {
        "id": "hiw01vlG8b3x"
      }
    },
    {
      "cell_type": "code",
      "source": [
        "test_df.head()"
      ],
      "metadata": {
        "colab": {
          "base_uri": "https://localhost:8080/",
          "height": 310
        },
        "id": "V0Brnqm2nBGW",
        "outputId": "afa0d3c4-eb97-4c07-98c9-5a5ac8806796"
      },
      "execution_count": null,
      "outputs": [
        {
          "output_type": "execute_result",
          "data": {
            "text/plain": [
              "   PassengerId  Pclass                                          Name     Sex  \\\n",
              "0          892       3                              Kelly, Mr. James    male   \n",
              "1          893       3              Wilkes, Mrs. James (Ellen Needs)  female   \n",
              "2          894       2                     Myles, Mr. Thomas Francis    male   \n",
              "3          895       3                              Wirz, Mr. Albert    male   \n",
              "4          896       3  Hirvonen, Mrs. Alexander (Helga E Lindqvist)  female   \n",
              "\n",
              "    Age  SibSp  Parch   Ticket     Fare Cabin Embarked  \n",
              "0  34.5      0      0   330911   7.8292   NaN        Q  \n",
              "1  47.0      1      0   363272   7.0000   NaN        S  \n",
              "2  62.0      0      0   240276   9.6875   NaN        Q  \n",
              "3  27.0      0      0   315154   8.6625   NaN        S  \n",
              "4  22.0      1      1  3101298  12.2875   NaN        S  "
            ],
            "text/html": [
              "\n",
              "  <div id=\"df-6e1aa0c1-3f02-4960-9c82-4c5c620b4665\" class=\"colab-df-container\">\n",
              "    <div>\n",
              "<style scoped>\n",
              "    .dataframe tbody tr th:only-of-type {\n",
              "        vertical-align: middle;\n",
              "    }\n",
              "\n",
              "    .dataframe tbody tr th {\n",
              "        vertical-align: top;\n",
              "    }\n",
              "\n",
              "    .dataframe thead th {\n",
              "        text-align: right;\n",
              "    }\n",
              "</style>\n",
              "<table border=\"1\" class=\"dataframe\">\n",
              "  <thead>\n",
              "    <tr style=\"text-align: right;\">\n",
              "      <th></th>\n",
              "      <th>PassengerId</th>\n",
              "      <th>Pclass</th>\n",
              "      <th>Name</th>\n",
              "      <th>Sex</th>\n",
              "      <th>Age</th>\n",
              "      <th>SibSp</th>\n",
              "      <th>Parch</th>\n",
              "      <th>Ticket</th>\n",
              "      <th>Fare</th>\n",
              "      <th>Cabin</th>\n",
              "      <th>Embarked</th>\n",
              "    </tr>\n",
              "  </thead>\n",
              "  <tbody>\n",
              "    <tr>\n",
              "      <th>0</th>\n",
              "      <td>892</td>\n",
              "      <td>3</td>\n",
              "      <td>Kelly, Mr. James</td>\n",
              "      <td>male</td>\n",
              "      <td>34.5</td>\n",
              "      <td>0</td>\n",
              "      <td>0</td>\n",
              "      <td>330911</td>\n",
              "      <td>7.8292</td>\n",
              "      <td>NaN</td>\n",
              "      <td>Q</td>\n",
              "    </tr>\n",
              "    <tr>\n",
              "      <th>1</th>\n",
              "      <td>893</td>\n",
              "      <td>3</td>\n",
              "      <td>Wilkes, Mrs. James (Ellen Needs)</td>\n",
              "      <td>female</td>\n",
              "      <td>47.0</td>\n",
              "      <td>1</td>\n",
              "      <td>0</td>\n",
              "      <td>363272</td>\n",
              "      <td>7.0000</td>\n",
              "      <td>NaN</td>\n",
              "      <td>S</td>\n",
              "    </tr>\n",
              "    <tr>\n",
              "      <th>2</th>\n",
              "      <td>894</td>\n",
              "      <td>2</td>\n",
              "      <td>Myles, Mr. Thomas Francis</td>\n",
              "      <td>male</td>\n",
              "      <td>62.0</td>\n",
              "      <td>0</td>\n",
              "      <td>0</td>\n",
              "      <td>240276</td>\n",
              "      <td>9.6875</td>\n",
              "      <td>NaN</td>\n",
              "      <td>Q</td>\n",
              "    </tr>\n",
              "    <tr>\n",
              "      <th>3</th>\n",
              "      <td>895</td>\n",
              "      <td>3</td>\n",
              "      <td>Wirz, Mr. Albert</td>\n",
              "      <td>male</td>\n",
              "      <td>27.0</td>\n",
              "      <td>0</td>\n",
              "      <td>0</td>\n",
              "      <td>315154</td>\n",
              "      <td>8.6625</td>\n",
              "      <td>NaN</td>\n",
              "      <td>S</td>\n",
              "    </tr>\n",
              "    <tr>\n",
              "      <th>4</th>\n",
              "      <td>896</td>\n",
              "      <td>3</td>\n",
              "      <td>Hirvonen, Mrs. Alexander (Helga E Lindqvist)</td>\n",
              "      <td>female</td>\n",
              "      <td>22.0</td>\n",
              "      <td>1</td>\n",
              "      <td>1</td>\n",
              "      <td>3101298</td>\n",
              "      <td>12.2875</td>\n",
              "      <td>NaN</td>\n",
              "      <td>S</td>\n",
              "    </tr>\n",
              "  </tbody>\n",
              "</table>\n",
              "</div>\n",
              "    <div class=\"colab-df-buttons\">\n",
              "\n",
              "  <div class=\"colab-df-container\">\n",
              "    <button class=\"colab-df-convert\" onclick=\"convertToInteractive('df-6e1aa0c1-3f02-4960-9c82-4c5c620b4665')\"\n",
              "            title=\"Convert this dataframe to an interactive table.\"\n",
              "            style=\"display:none;\">\n",
              "\n",
              "  <svg xmlns=\"http://www.w3.org/2000/svg\" height=\"24px\" viewBox=\"0 -960 960 960\">\n",
              "    <path d=\"M120-120v-720h720v720H120Zm60-500h600v-160H180v160Zm220 220h160v-160H400v160Zm0 220h160v-160H400v160ZM180-400h160v-160H180v160Zm440 0h160v-160H620v160ZM180-180h160v-160H180v160Zm440 0h160v-160H620v160Z\"/>\n",
              "  </svg>\n",
              "    </button>\n",
              "\n",
              "  <style>\n",
              "    .colab-df-container {\n",
              "      display:flex;\n",
              "      gap: 12px;\n",
              "    }\n",
              "\n",
              "    .colab-df-convert {\n",
              "      background-color: #E8F0FE;\n",
              "      border: none;\n",
              "      border-radius: 50%;\n",
              "      cursor: pointer;\n",
              "      display: none;\n",
              "      fill: #1967D2;\n",
              "      height: 32px;\n",
              "      padding: 0 0 0 0;\n",
              "      width: 32px;\n",
              "    }\n",
              "\n",
              "    .colab-df-convert:hover {\n",
              "      background-color: #E2EBFA;\n",
              "      box-shadow: 0px 1px 2px rgba(60, 64, 67, 0.3), 0px 1px 3px 1px rgba(60, 64, 67, 0.15);\n",
              "      fill: #174EA6;\n",
              "    }\n",
              "\n",
              "    .colab-df-buttons div {\n",
              "      margin-bottom: 4px;\n",
              "    }\n",
              "\n",
              "    [theme=dark] .colab-df-convert {\n",
              "      background-color: #3B4455;\n",
              "      fill: #D2E3FC;\n",
              "    }\n",
              "\n",
              "    [theme=dark] .colab-df-convert:hover {\n",
              "      background-color: #434B5C;\n",
              "      box-shadow: 0px 1px 3px 1px rgba(0, 0, 0, 0.15);\n",
              "      filter: drop-shadow(0px 1px 2px rgba(0, 0, 0, 0.3));\n",
              "      fill: #FFFFFF;\n",
              "    }\n",
              "  </style>\n",
              "\n",
              "    <script>\n",
              "      const buttonEl =\n",
              "        document.querySelector('#df-6e1aa0c1-3f02-4960-9c82-4c5c620b4665 button.colab-df-convert');\n",
              "      buttonEl.style.display =\n",
              "        google.colab.kernel.accessAllowed ? 'block' : 'none';\n",
              "\n",
              "      async function convertToInteractive(key) {\n",
              "        const element = document.querySelector('#df-6e1aa0c1-3f02-4960-9c82-4c5c620b4665');\n",
              "        const dataTable =\n",
              "          await google.colab.kernel.invokeFunction('convertToInteractive',\n",
              "                                                    [key], {});\n",
              "        if (!dataTable) return;\n",
              "\n",
              "        const docLinkHtml = 'Like what you see? Visit the ' +\n",
              "          '<a target=\"_blank\" href=https://colab.research.google.com/notebooks/data_table.ipynb>data table notebook</a>'\n",
              "          + ' to learn more about interactive tables.';\n",
              "        element.innerHTML = '';\n",
              "        dataTable['output_type'] = 'display_data';\n",
              "        await google.colab.output.renderOutput(dataTable, element);\n",
              "        const docLink = document.createElement('div');\n",
              "        docLink.innerHTML = docLinkHtml;\n",
              "        element.appendChild(docLink);\n",
              "      }\n",
              "    </script>\n",
              "  </div>\n",
              "\n",
              "\n",
              "    <div id=\"df-2f1e6a35-2700-4459-bde3-52c3b87075ef\">\n",
              "      <button class=\"colab-df-quickchart\" onclick=\"quickchart('df-2f1e6a35-2700-4459-bde3-52c3b87075ef')\"\n",
              "                title=\"Suggest charts\"\n",
              "                style=\"display:none;\">\n",
              "\n",
              "<svg xmlns=\"http://www.w3.org/2000/svg\" height=\"24px\"viewBox=\"0 0 24 24\"\n",
              "     width=\"24px\">\n",
              "    <g>\n",
              "        <path d=\"M19 3H5c-1.1 0-2 .9-2 2v14c0 1.1.9 2 2 2h14c1.1 0 2-.9 2-2V5c0-1.1-.9-2-2-2zM9 17H7v-7h2v7zm4 0h-2V7h2v10zm4 0h-2v-4h2v4z\"/>\n",
              "    </g>\n",
              "</svg>\n",
              "      </button>\n",
              "\n",
              "<style>\n",
              "  .colab-df-quickchart {\n",
              "      --bg-color: #E8F0FE;\n",
              "      --fill-color: #1967D2;\n",
              "      --hover-bg-color: #E2EBFA;\n",
              "      --hover-fill-color: #174EA6;\n",
              "      --disabled-fill-color: #AAA;\n",
              "      --disabled-bg-color: #DDD;\n",
              "  }\n",
              "\n",
              "  [theme=dark] .colab-df-quickchart {\n",
              "      --bg-color: #3B4455;\n",
              "      --fill-color: #D2E3FC;\n",
              "      --hover-bg-color: #434B5C;\n",
              "      --hover-fill-color: #FFFFFF;\n",
              "      --disabled-bg-color: #3B4455;\n",
              "      --disabled-fill-color: #666;\n",
              "  }\n",
              "\n",
              "  .colab-df-quickchart {\n",
              "    background-color: var(--bg-color);\n",
              "    border: none;\n",
              "    border-radius: 50%;\n",
              "    cursor: pointer;\n",
              "    display: none;\n",
              "    fill: var(--fill-color);\n",
              "    height: 32px;\n",
              "    padding: 0;\n",
              "    width: 32px;\n",
              "  }\n",
              "\n",
              "  .colab-df-quickchart:hover {\n",
              "    background-color: var(--hover-bg-color);\n",
              "    box-shadow: 0 1px 2px rgba(60, 64, 67, 0.3), 0 1px 3px 1px rgba(60, 64, 67, 0.15);\n",
              "    fill: var(--button-hover-fill-color);\n",
              "  }\n",
              "\n",
              "  .colab-df-quickchart-complete:disabled,\n",
              "  .colab-df-quickchart-complete:disabled:hover {\n",
              "    background-color: var(--disabled-bg-color);\n",
              "    fill: var(--disabled-fill-color);\n",
              "    box-shadow: none;\n",
              "  }\n",
              "\n",
              "  .colab-df-spinner {\n",
              "    border: 2px solid var(--fill-color);\n",
              "    border-color: transparent;\n",
              "    border-bottom-color: var(--fill-color);\n",
              "    animation:\n",
              "      spin 1s steps(1) infinite;\n",
              "  }\n",
              "\n",
              "  @keyframes spin {\n",
              "    0% {\n",
              "      border-color: transparent;\n",
              "      border-bottom-color: var(--fill-color);\n",
              "      border-left-color: var(--fill-color);\n",
              "    }\n",
              "    20% {\n",
              "      border-color: transparent;\n",
              "      border-left-color: var(--fill-color);\n",
              "      border-top-color: var(--fill-color);\n",
              "    }\n",
              "    30% {\n",
              "      border-color: transparent;\n",
              "      border-left-color: var(--fill-color);\n",
              "      border-top-color: var(--fill-color);\n",
              "      border-right-color: var(--fill-color);\n",
              "    }\n",
              "    40% {\n",
              "      border-color: transparent;\n",
              "      border-right-color: var(--fill-color);\n",
              "      border-top-color: var(--fill-color);\n",
              "    }\n",
              "    60% {\n",
              "      border-color: transparent;\n",
              "      border-right-color: var(--fill-color);\n",
              "    }\n",
              "    80% {\n",
              "      border-color: transparent;\n",
              "      border-right-color: var(--fill-color);\n",
              "      border-bottom-color: var(--fill-color);\n",
              "    }\n",
              "    90% {\n",
              "      border-color: transparent;\n",
              "      border-bottom-color: var(--fill-color);\n",
              "    }\n",
              "  }\n",
              "</style>\n",
              "\n",
              "      <script>\n",
              "        async function quickchart(key) {\n",
              "          const quickchartButtonEl =\n",
              "            document.querySelector('#' + key + ' button');\n",
              "          quickchartButtonEl.disabled = true;  // To prevent multiple clicks.\n",
              "          quickchartButtonEl.classList.add('colab-df-spinner');\n",
              "          try {\n",
              "            const charts = await google.colab.kernel.invokeFunction(\n",
              "                'suggestCharts', [key], {});\n",
              "          } catch (error) {\n",
              "            console.error('Error during call to suggestCharts:', error);\n",
              "          }\n",
              "          quickchartButtonEl.classList.remove('colab-df-spinner');\n",
              "          quickchartButtonEl.classList.add('colab-df-quickchart-complete');\n",
              "        }\n",
              "        (() => {\n",
              "          let quickchartButtonEl =\n",
              "            document.querySelector('#df-2f1e6a35-2700-4459-bde3-52c3b87075ef button');\n",
              "          quickchartButtonEl.style.display =\n",
              "            google.colab.kernel.accessAllowed ? 'block' : 'none';\n",
              "        })();\n",
              "      </script>\n",
              "    </div>\n",
              "\n",
              "    </div>\n",
              "  </div>\n"
            ],
            "application/vnd.google.colaboratory.intrinsic+json": {
              "type": "dataframe",
              "variable_name": "test_df",
              "summary": "{\n  \"name\": \"test_df\",\n  \"rows\": 418,\n  \"fields\": [\n    {\n      \"column\": \"PassengerId\",\n      \"properties\": {\n        \"dtype\": \"number\",\n        \"std\": 120,\n        \"min\": 892,\n        \"max\": 1309,\n        \"num_unique_values\": 418,\n        \"samples\": [\n          1213,\n          1216,\n          1280\n        ],\n        \"semantic_type\": \"\",\n        \"description\": \"\"\n      }\n    },\n    {\n      \"column\": \"Pclass\",\n      \"properties\": {\n        \"dtype\": \"number\",\n        \"std\": 0,\n        \"min\": 1,\n        \"max\": 3,\n        \"num_unique_values\": 3,\n        \"samples\": [\n          3,\n          2,\n          1\n        ],\n        \"semantic_type\": \"\",\n        \"description\": \"\"\n      }\n    },\n    {\n      \"column\": \"Name\",\n      \"properties\": {\n        \"dtype\": \"string\",\n        \"num_unique_values\": 418,\n        \"samples\": [\n          \"Krekorian, Mr. Neshan\",\n          \"Kreuchen, Miss. Emilie\",\n          \"Canavan, Mr. Patrick\"\n        ],\n        \"semantic_type\": \"\",\n        \"description\": \"\"\n      }\n    },\n    {\n      \"column\": \"Sex\",\n      \"properties\": {\n        \"dtype\": \"category\",\n        \"num_unique_values\": 2,\n        \"samples\": [\n          \"female\",\n          \"male\"\n        ],\n        \"semantic_type\": \"\",\n        \"description\": \"\"\n      }\n    },\n    {\n      \"column\": \"Age\",\n      \"properties\": {\n        \"dtype\": \"number\",\n        \"std\": 14.18120923562442,\n        \"min\": 0.17,\n        \"max\": 76.0,\n        \"num_unique_values\": 79,\n        \"samples\": [\n          10.0,\n          34.5\n        ],\n        \"semantic_type\": \"\",\n        \"description\": \"\"\n      }\n    },\n    {\n      \"column\": \"SibSp\",\n      \"properties\": {\n        \"dtype\": \"number\",\n        \"std\": 0,\n        \"min\": 0,\n        \"max\": 8,\n        \"num_unique_values\": 7,\n        \"samples\": [\n          0,\n          1\n        ],\n        \"semantic_type\": \"\",\n        \"description\": \"\"\n      }\n    },\n    {\n      \"column\": \"Parch\",\n      \"properties\": {\n        \"dtype\": \"number\",\n        \"std\": 0,\n        \"min\": 0,\n        \"max\": 9,\n        \"num_unique_values\": 8,\n        \"samples\": [\n          1,\n          6\n        ],\n        \"semantic_type\": \"\",\n        \"description\": \"\"\n      }\n    },\n    {\n      \"column\": \"Ticket\",\n      \"properties\": {\n        \"dtype\": \"string\",\n        \"num_unique_values\": 363,\n        \"samples\": [\n          \"2673\",\n          \"W./C. 6607\"\n        ],\n        \"semantic_type\": \"\",\n        \"description\": \"\"\n      }\n    },\n    {\n      \"column\": \"Fare\",\n      \"properties\": {\n        \"dtype\": \"number\",\n        \"std\": 55.90757617997383,\n        \"min\": 0.0,\n        \"max\": 512.3292,\n        \"num_unique_values\": 169,\n        \"samples\": [\n          41.5792,\n          57.75\n        ],\n        \"semantic_type\": \"\",\n        \"description\": \"\"\n      }\n    },\n    {\n      \"column\": \"Cabin\",\n      \"properties\": {\n        \"dtype\": \"category\",\n        \"num_unique_values\": 76,\n        \"samples\": [\n          \"A21\",\n          \"E45\"\n        ],\n        \"semantic_type\": \"\",\n        \"description\": \"\"\n      }\n    },\n    {\n      \"column\": \"Embarked\",\n      \"properties\": {\n        \"dtype\": \"category\",\n        \"num_unique_values\": 3,\n        \"samples\": [\n          \"Q\",\n          \"S\"\n        ],\n        \"semantic_type\": \"\",\n        \"description\": \"\"\n      }\n    }\n  ]\n}"
            }
          },
          "metadata": {},
          "execution_count": 2
        }
      ]
    },
    {
      "cell_type": "markdown",
      "source": [
        "**Inspecting the Datasets**"
      ],
      "metadata": {
        "id": "WKnR8px7LJ9l"
      }
    },
    {
      "cell_type": "markdown",
      "source": [
        "Inspecting the training dataset"
      ],
      "metadata": {
        "id": "Z-QXNtc28qI9"
      }
    },
    {
      "cell_type": "code",
      "source": [
        "print(train_df.info())\n",
        "print(train_df.describe())\n",
        "print(train_df.shape)\n",
        "print(train_df.columns)\n",
        "print(train_df.isnull().sum())\n",
        "print(train_df.duplicated().sum())\n",
        "print(train_df.dtypes)"
      ],
      "metadata": {
        "colab": {
          "base_uri": "https://localhost:8080/"
        },
        "id": "oV7pQnBenEZc",
        "outputId": "f60b4f37-3aad-4856-bea3-94fca3881d99"
      },
      "execution_count": null,
      "outputs": [
        {
          "output_type": "stream",
          "name": "stdout",
          "text": [
            "<class 'pandas.core.frame.DataFrame'>\n",
            "RangeIndex: 891 entries, 0 to 890\n",
            "Data columns (total 12 columns):\n",
            " #   Column       Non-Null Count  Dtype  \n",
            "---  ------       --------------  -----  \n",
            " 0   PassengerId  891 non-null    int64  \n",
            " 1   Survived     891 non-null    int64  \n",
            " 2   Pclass       891 non-null    int64  \n",
            " 3   Name         891 non-null    object \n",
            " 4   Sex          891 non-null    object \n",
            " 5   Age          714 non-null    float64\n",
            " 6   SibSp        891 non-null    int64  \n",
            " 7   Parch        891 non-null    int64  \n",
            " 8   Ticket       891 non-null    object \n",
            " 9   Fare         891 non-null    float64\n",
            " 10  Cabin        204 non-null    object \n",
            " 11  Embarked     889 non-null    object \n",
            "dtypes: float64(2), int64(5), object(5)\n",
            "memory usage: 83.7+ KB\n",
            "None\n",
            "       PassengerId    Survived      Pclass         Age       SibSp  \\\n",
            "count   891.000000  891.000000  891.000000  714.000000  891.000000   \n",
            "mean    446.000000    0.383838    2.308642   29.699118    0.523008   \n",
            "std     257.353842    0.486592    0.836071   14.526497    1.102743   \n",
            "min       1.000000    0.000000    1.000000    0.420000    0.000000   \n",
            "25%     223.500000    0.000000    2.000000   20.125000    0.000000   \n",
            "50%     446.000000    0.000000    3.000000   28.000000    0.000000   \n",
            "75%     668.500000    1.000000    3.000000   38.000000    1.000000   \n",
            "max     891.000000    1.000000    3.000000   80.000000    8.000000   \n",
            "\n",
            "            Parch        Fare  \n",
            "count  891.000000  891.000000  \n",
            "mean     0.381594   32.204208  \n",
            "std      0.806057   49.693429  \n",
            "min      0.000000    0.000000  \n",
            "25%      0.000000    7.910400  \n",
            "50%      0.000000   14.454200  \n",
            "75%      0.000000   31.000000  \n",
            "max      6.000000  512.329200  \n",
            "(891, 12)\n",
            "Index(['PassengerId', 'Survived', 'Pclass', 'Name', 'Sex', 'Age', 'SibSp',\n",
            "       'Parch', 'Ticket', 'Fare', 'Cabin', 'Embarked'],\n",
            "      dtype='object')\n",
            "PassengerId      0\n",
            "Survived         0\n",
            "Pclass           0\n",
            "Name             0\n",
            "Sex              0\n",
            "Age            177\n",
            "SibSp            0\n",
            "Parch            0\n",
            "Ticket           0\n",
            "Fare             0\n",
            "Cabin          687\n",
            "Embarked         2\n",
            "dtype: int64\n",
            "0\n",
            "PassengerId      int64\n",
            "Survived         int64\n",
            "Pclass           int64\n",
            "Name            object\n",
            "Sex             object\n",
            "Age            float64\n",
            "SibSp            int64\n",
            "Parch            int64\n",
            "Ticket          object\n",
            "Fare           float64\n",
            "Cabin           object\n",
            "Embarked        object\n",
            "dtype: object\n"
          ]
        }
      ]
    },
    {
      "cell_type": "markdown",
      "source": [
        "Inspecting the testing dataset"
      ],
      "metadata": {
        "id": "v6E_qP_U893-"
      }
    },
    {
      "cell_type": "code",
      "source": [
        "print(test_df.info())\n",
        "print(test_df.describe())\n",
        "print(test_df.shape)\n",
        "print(test_df.columns)\n",
        "print(test_df.isnull().sum())\n",
        "print(test_df.duplicated().sum())\n",
        "print(test_df.dtypes)"
      ],
      "metadata": {
        "colab": {
          "base_uri": "https://localhost:8080/"
        },
        "id": "E9-DuX9Gnxin",
        "outputId": "b701af45-471f-4cfe-8629-5d310deb935a"
      },
      "execution_count": null,
      "outputs": [
        {
          "output_type": "stream",
          "name": "stdout",
          "text": [
            "<class 'pandas.core.frame.DataFrame'>\n",
            "RangeIndex: 418 entries, 0 to 417\n",
            "Data columns (total 11 columns):\n",
            " #   Column       Non-Null Count  Dtype  \n",
            "---  ------       --------------  -----  \n",
            " 0   PassengerId  418 non-null    int64  \n",
            " 1   Pclass       418 non-null    int64  \n",
            " 2   Name         418 non-null    object \n",
            " 3   Sex          418 non-null    object \n",
            " 4   Age          332 non-null    float64\n",
            " 5   SibSp        418 non-null    int64  \n",
            " 6   Parch        418 non-null    int64  \n",
            " 7   Ticket       418 non-null    object \n",
            " 8   Fare         417 non-null    float64\n",
            " 9   Cabin        91 non-null     object \n",
            " 10  Embarked     418 non-null    object \n",
            "dtypes: float64(2), int64(4), object(5)\n",
            "memory usage: 36.1+ KB\n",
            "None\n",
            "       PassengerId      Pclass         Age       SibSp       Parch        Fare\n",
            "count   418.000000  418.000000  332.000000  418.000000  418.000000  417.000000\n",
            "mean   1100.500000    2.265550   30.272590    0.447368    0.392344   35.627188\n",
            "std     120.810458    0.841838   14.181209    0.896760    0.981429   55.907576\n",
            "min     892.000000    1.000000    0.170000    0.000000    0.000000    0.000000\n",
            "25%     996.250000    1.000000   21.000000    0.000000    0.000000    7.895800\n",
            "50%    1100.500000    3.000000   27.000000    0.000000    0.000000   14.454200\n",
            "75%    1204.750000    3.000000   39.000000    1.000000    0.000000   31.500000\n",
            "max    1309.000000    3.000000   76.000000    8.000000    9.000000  512.329200\n",
            "(418, 11)\n",
            "Index(['PassengerId', 'Pclass', 'Name', 'Sex', 'Age', 'SibSp', 'Parch',\n",
            "       'Ticket', 'Fare', 'Cabin', 'Embarked'],\n",
            "      dtype='object')\n",
            "PassengerId      0\n",
            "Pclass           0\n",
            "Name             0\n",
            "Sex              0\n",
            "Age             86\n",
            "SibSp            0\n",
            "Parch            0\n",
            "Ticket           0\n",
            "Fare             1\n",
            "Cabin          327\n",
            "Embarked         0\n",
            "dtype: int64\n",
            "0\n",
            "PassengerId      int64\n",
            "Pclass           int64\n",
            "Name            object\n",
            "Sex             object\n",
            "Age            float64\n",
            "SibSp            int64\n",
            "Parch            int64\n",
            "Ticket          object\n",
            "Fare           float64\n",
            "Cabin           object\n",
            "Embarked        object\n",
            "dtype: object\n"
          ]
        }
      ]
    },
    {
      "cell_type": "markdown",
      "source": [
        "**Handling Missing Values**"
      ],
      "metadata": {
        "id": "hVISUSvWLUyJ"
      }
    },
    {
      "cell_type": "markdown",
      "source": [
        "Calculating missing value percentages in 'Age' columns of training data"
      ],
      "metadata": {
        "id": "E4m87SZn9C8l"
      }
    },
    {
      "cell_type": "code",
      "source": [
        "(train_df['Age'].isnull().sum())/len(train_df)*100\n"
      ],
      "metadata": {
        "colab": {
          "base_uri": "https://localhost:8080/"
        },
        "id": "kqy8qUYnoYu0",
        "outputId": "92db6aa9-a172-4068-eef2-36639f5ad24a"
      },
      "execution_count": null,
      "outputs": [
        {
          "output_type": "execute_result",
          "data": {
            "text/plain": [
              "np.float64(19.865319865319865)"
            ]
          },
          "metadata": {},
          "execution_count": 5
        }
      ]
    },
    {
      "cell_type": "markdown",
      "source": [
        "Calculating missing value percentages in 'Cabin' columns of training data"
      ],
      "metadata": {
        "id": "sOYlKkxX9jrL"
      }
    },
    {
      "cell_type": "code",
      "source": [
        "(train_df['Cabin'].isnull().sum())/len(train_df)*100\n"
      ],
      "metadata": {
        "colab": {
          "base_uri": "https://localhost:8080/"
        },
        "id": "0HqebXK9q9Y2",
        "outputId": "d7f896ff-8ea6-40c8-8033-a587cecd5bd9"
      },
      "execution_count": null,
      "outputs": [
        {
          "output_type": "execute_result",
          "data": {
            "text/plain": [
              "np.float64(77.10437710437711)"
            ]
          },
          "metadata": {},
          "execution_count": 6
        }
      ]
    },
    {
      "cell_type": "markdown",
      "source": [
        "Calculating missing value percentages in 'Embarked' columns of training data"
      ],
      "metadata": {
        "id": "rvGZ4x5v9mVw"
      }
    },
    {
      "cell_type": "code",
      "source": [
        "(train_df['Embarked'].isnull().sum())/len(train_df)*100"
      ],
      "metadata": {
        "colab": {
          "base_uri": "https://localhost:8080/"
        },
        "id": "ZPsh_41mrBc9",
        "outputId": "12973c1f-9b3a-41a0-d306-ccdf909fb661"
      },
      "execution_count": null,
      "outputs": [
        {
          "output_type": "execute_result",
          "data": {
            "text/plain": [
              "np.float64(0.22446689113355783)"
            ]
          },
          "metadata": {},
          "execution_count": 7
        }
      ]
    },
    {
      "cell_type": "markdown",
      "source": [
        "Filling missing values in 'Age' using median"
      ],
      "metadata": {
        "id": "UcsI5FjU-JvR"
      }
    },
    {
      "cell_type": "code",
      "source": [
        "train_df['Age'].fillna(train_df['Age'].median(),inplace=True)"
      ],
      "metadata": {
        "colab": {
          "base_uri": "https://localhost:8080/"
        },
        "id": "r84kIoy6rFn9",
        "outputId": "e378fd88-1620-40dc-cd2c-97d628f1e929"
      },
      "execution_count": null,
      "outputs": [
        {
          "output_type": "stream",
          "name": "stderr",
          "text": [
            "<ipython-input-8-44ec9270a49e>:1: FutureWarning: A value is trying to be set on a copy of a DataFrame or Series through chained assignment using an inplace method.\n",
            "The behavior will change in pandas 3.0. This inplace method will never work because the intermediate object on which we are setting values always behaves as a copy.\n",
            "\n",
            "For example, when doing 'df[col].method(value, inplace=True)', try using 'df.method({col: value}, inplace=True)' or df[col] = df[col].method(value) instead, to perform the operation inplace on the original object.\n",
            "\n",
            "\n",
            "  train_df['Age'].fillna(train_df['Age'].median(),inplace=True)\n"
          ]
        }
      ]
    },
    {
      "cell_type": "markdown",
      "source": [
        "Dropping the 'Cabin' column"
      ],
      "metadata": {
        "id": "DnK3SbFd-nMF"
      }
    },
    {
      "cell_type": "code",
      "source": [
        "train_df.drop('Cabin',axis=1,inplace= True)"
      ],
      "metadata": {
        "id": "CPsu1kQnrae9"
      },
      "execution_count": null,
      "outputs": []
    },
    {
      "cell_type": "markdown",
      "source": [
        "Filling missing values in 'Embarked' using mode"
      ],
      "metadata": {
        "id": "L3Te6y_l-XZt"
      }
    },
    {
      "cell_type": "code",
      "source": [
        "train_df['Embarked'].fillna(train_df['Embarked'].mode()[0],inplace= True)"
      ],
      "metadata": {
        "colab": {
          "base_uri": "https://localhost:8080/"
        },
        "id": "k7GH2RmXroAm",
        "outputId": "9a52119c-0324-4841-cc78-855cb155a573"
      },
      "execution_count": null,
      "outputs": [
        {
          "output_type": "stream",
          "name": "stderr",
          "text": [
            "<ipython-input-10-691efc074dc4>:1: FutureWarning: A value is trying to be set on a copy of a DataFrame or Series through chained assignment using an inplace method.\n",
            "The behavior will change in pandas 3.0. This inplace method will never work because the intermediate object on which we are setting values always behaves as a copy.\n",
            "\n",
            "For example, when doing 'df[col].method(value, inplace=True)', try using 'df.method({col: value}, inplace=True)' or df[col] = df[col].method(value) instead, to perform the operation inplace on the original object.\n",
            "\n",
            "\n",
            "  train_df['Embarked'].fillna(train_df['Embarked'].mode()[0],inplace= True)\n"
          ]
        }
      ]
    },
    {
      "cell_type": "markdown",
      "source": [
        "Calculating missing value percentages in 'Age' columns of testing data"
      ],
      "metadata": {
        "id": "_AMFdpQq9smY"
      }
    },
    {
      "cell_type": "code",
      "source": [
        "(test_df['Age'].isnull().sum()/len(test_df))*100"
      ],
      "metadata": {
        "colab": {
          "base_uri": "https://localhost:8080/"
        },
        "id": "gVuckLmVr2EU",
        "outputId": "9aba421b-7f4d-40d9-e39e-2c4d29f9f08b"
      },
      "execution_count": null,
      "outputs": [
        {
          "output_type": "execute_result",
          "data": {
            "text/plain": [
              "np.float64(20.574162679425836)"
            ]
          },
          "metadata": {},
          "execution_count": 11
        }
      ]
    },
    {
      "cell_type": "markdown",
      "source": [
        "Calculating missing value percentages in 'Cabin' columns of testing data"
      ],
      "metadata": {
        "id": "LsrVjMtc90Rh"
      }
    },
    {
      "cell_type": "code",
      "source": [
        "(test_df['Cabin'].isnull().sum()/len(test_df))*100"
      ],
      "metadata": {
        "colab": {
          "base_uri": "https://localhost:8080/"
        },
        "id": "cBLyd-UlsHWV",
        "outputId": "859333ce-7b49-487f-a2b4-98bb038b955f"
      },
      "execution_count": null,
      "outputs": [
        {
          "output_type": "execute_result",
          "data": {
            "text/plain": [
              "np.float64(78.22966507177034)"
            ]
          },
          "metadata": {},
          "execution_count": 12
        }
      ]
    },
    {
      "cell_type": "markdown",
      "source": [
        "Calculating missing value percentages in 'Fare' columns of testing data"
      ],
      "metadata": {
        "id": "p_0F8FcY-CU-"
      }
    },
    {
      "cell_type": "code",
      "source": [
        "(test_df['Fare'].isnull().sum()/len(test_df))*100"
      ],
      "metadata": {
        "colab": {
          "base_uri": "https://localhost:8080/"
        },
        "id": "KlTYiLVlsUXN",
        "outputId": "ba83a67c-54f7-4e64-9418-ee2656e5678d"
      },
      "execution_count": null,
      "outputs": [
        {
          "output_type": "execute_result",
          "data": {
            "text/plain": [
              "np.float64(0.23923444976076555)"
            ]
          },
          "metadata": {},
          "execution_count": 13
        }
      ]
    },
    {
      "cell_type": "markdown",
      "source": [
        "Filling missing values in 'Age' using median"
      ],
      "metadata": {
        "id": "t1wOYmp--fu6"
      }
    },
    {
      "cell_type": "code",
      "source": [
        "test_df['Age'].fillna(test_df['Age'].median(),inplace=True)"
      ],
      "metadata": {
        "colab": {
          "base_uri": "https://localhost:8080/"
        },
        "id": "Q9YzsPHisZxW",
        "outputId": "ee97d5b1-9a93-416f-d3a8-7add8afd2ce7"
      },
      "execution_count": null,
      "outputs": [
        {
          "output_type": "stream",
          "name": "stderr",
          "text": [
            "<ipython-input-14-39c460faf7d8>:1: FutureWarning: A value is trying to be set on a copy of a DataFrame or Series through chained assignment using an inplace method.\n",
            "The behavior will change in pandas 3.0. This inplace method will never work because the intermediate object on which we are setting values always behaves as a copy.\n",
            "\n",
            "For example, when doing 'df[col].method(value, inplace=True)', try using 'df.method({col: value}, inplace=True)' or df[col] = df[col].method(value) instead, to perform the operation inplace on the original object.\n",
            "\n",
            "\n",
            "  test_df['Age'].fillna(test_df['Age'].median(),inplace=True)\n"
          ]
        }
      ]
    },
    {
      "cell_type": "markdown",
      "source": [
        "Dropping the 'Cabin' column"
      ],
      "metadata": {
        "id": "VzQ264E6-tpF"
      }
    },
    {
      "cell_type": "code",
      "source": [
        "test_df.drop('Cabin',axis=1,inplace= True)"
      ],
      "metadata": {
        "id": "Gk3lHeSash1m"
      },
      "execution_count": null,
      "outputs": []
    },
    {
      "cell_type": "markdown",
      "source": [
        "Filling missing values in 'Fare' using median"
      ],
      "metadata": {
        "id": "jjUOkz75-iWt"
      }
    },
    {
      "cell_type": "code",
      "source": [
        "test_df['Fare'].fillna(test_df['Fare'].median(),inplace=True)"
      ],
      "metadata": {
        "colab": {
          "base_uri": "https://localhost:8080/"
        },
        "id": "iHyyuMxHsoe8",
        "outputId": "fdd3b8c7-2cd2-48b1-cb1f-5f1cba6dd1d2"
      },
      "execution_count": null,
      "outputs": [
        {
          "output_type": "stream",
          "name": "stderr",
          "text": [
            "<ipython-input-16-c1bbb2c8c6c8>:1: FutureWarning: A value is trying to be set on a copy of a DataFrame or Series through chained assignment using an inplace method.\n",
            "The behavior will change in pandas 3.0. This inplace method will never work because the intermediate object on which we are setting values always behaves as a copy.\n",
            "\n",
            "For example, when doing 'df[col].method(value, inplace=True)', try using 'df.method({col: value}, inplace=True)' or df[col] = df[col].method(value) instead, to perform the operation inplace on the original object.\n",
            "\n",
            "\n",
            "  test_df['Fare'].fillna(test_df['Fare'].median(),inplace=True)\n"
          ]
        }
      ]
    },
    {
      "cell_type": "markdown",
      "source": [
        "Finding dupliacte values in training data"
      ],
      "metadata": {
        "id": "ndMkD0eK-x-_"
      }
    },
    {
      "cell_type": "markdown",
      "source": [
        "**Removing Duplicate Rows**"
      ],
      "metadata": {
        "id": "jOu47cCvLgeT"
      }
    },
    {
      "cell_type": "code",
      "source": [
        "train_df.duplicated().sum()"
      ],
      "metadata": {
        "colab": {
          "base_uri": "https://localhost:8080/"
        },
        "id": "YFO_-YTJs_ge",
        "outputId": "5470c3df-71e3-48e6-fcca-a8e29b4ad7e4"
      },
      "execution_count": null,
      "outputs": [
        {
          "output_type": "execute_result",
          "data": {
            "text/plain": [
              "np.int64(0)"
            ]
          },
          "metadata": {},
          "execution_count": 17
        }
      ]
    },
    {
      "cell_type": "markdown",
      "source": [
        "Finding duplicate values in testing data"
      ],
      "metadata": {
        "id": "mhTq-_9u-4NX"
      }
    },
    {
      "cell_type": "code",
      "source": [
        "test_df.duplicated().sum()"
      ],
      "metadata": {
        "colab": {
          "base_uri": "https://localhost:8080/"
        },
        "id": "rmOXMFYztC-8",
        "outputId": "47ae7ab5-30f0-4873-a983-00429dda1598"
      },
      "execution_count": null,
      "outputs": [
        {
          "output_type": "execute_result",
          "data": {
            "text/plain": [
              "np.int64(0)"
            ]
          },
          "metadata": {},
          "execution_count": 18
        }
      ]
    },
    {
      "cell_type": "markdown",
      "source": [
        "**Converting the Datatypes**"
      ],
      "metadata": {
        "id": "9LoWv9VxLm2a"
      }
    },
    {
      "cell_type": "markdown",
      "source": [
        "Converting 'Pclass' column to categorical data type of training dataset"
      ],
      "metadata": {
        "id": "_RP_NzQZ_E3g"
      }
    },
    {
      "cell_type": "code",
      "source": [
        "train_df['Pclass']=train_df['Pclass'].astype('category')"
      ],
      "metadata": {
        "id": "eldfNJN2t01u"
      },
      "execution_count": null,
      "outputs": []
    },
    {
      "cell_type": "markdown",
      "source": [
        "Converting  columns to categorical and string  data types of trainig dataset"
      ],
      "metadata": {
        "id": "VCRJA1vE_YdO"
      }
    },
    {
      "cell_type": "code",
      "source": [
        "train_df=train_df.astype({'Sex':'category','Embarked':'category', 'Name':'string','Ticket':'string'})"
      ],
      "metadata": {
        "id": "XwaQ2XSouPP3"
      },
      "execution_count": null,
      "outputs": []
    },
    {
      "cell_type": "markdown",
      "source": [
        "Converting 'Pclass' column to categorical data type of testing dataset"
      ],
      "metadata": {
        "id": "-GNwdmsC_XTX"
      }
    },
    {
      "cell_type": "code",
      "source": [
        "test_df['Pclass']=test_df['Pclass'].astype('category')\n"
      ],
      "metadata": {
        "id": "jzAXsf2Uul8w"
      },
      "execution_count": null,
      "outputs": []
    },
    {
      "cell_type": "markdown",
      "source": [
        "Converting  columns to categorical and string  data types of testing dataset"
      ],
      "metadata": {
        "id": "6TaXANBi_gq9"
      }
    },
    {
      "cell_type": "code",
      "source": [
        "test_df=test_df.astype({'Sex':'category','Embarked':'category', 'Name':'string','Ticket':'string'})"
      ],
      "metadata": {
        "id": "VrL6rXMpvmAc"
      },
      "execution_count": null,
      "outputs": []
    },
    {
      "cell_type": "markdown",
      "source": [
        "Verifying updated data types in the training dataset"
      ],
      "metadata": {
        "id": "Sh7KHUW5_lHJ"
      }
    },
    {
      "cell_type": "code",
      "source": [
        "train_df.dtypes"
      ],
      "metadata": {
        "colab": {
          "base_uri": "https://localhost:8080/",
          "height": 429
        },
        "id": "L4ULYwrdyGLq",
        "outputId": "731ad7d4-43c9-41d4-fcd1-d08e8e2ca546"
      },
      "execution_count": null,
      "outputs": [
        {
          "output_type": "execute_result",
          "data": {
            "text/plain": [
              "PassengerId             int64\n",
              "Survived                int64\n",
              "Pclass               category\n",
              "Name           string[python]\n",
              "Sex                  category\n",
              "Age                   float64\n",
              "SibSp                   int64\n",
              "Parch                   int64\n",
              "Ticket         string[python]\n",
              "Fare                  float64\n",
              "Embarked             category\n",
              "dtype: object"
            ],
            "text/html": [
              "<div>\n",
              "<style scoped>\n",
              "    .dataframe tbody tr th:only-of-type {\n",
              "        vertical-align: middle;\n",
              "    }\n",
              "\n",
              "    .dataframe tbody tr th {\n",
              "        vertical-align: top;\n",
              "    }\n",
              "\n",
              "    .dataframe thead th {\n",
              "        text-align: right;\n",
              "    }\n",
              "</style>\n",
              "<table border=\"1\" class=\"dataframe\">\n",
              "  <thead>\n",
              "    <tr style=\"text-align: right;\">\n",
              "      <th></th>\n",
              "      <th>0</th>\n",
              "    </tr>\n",
              "  </thead>\n",
              "  <tbody>\n",
              "    <tr>\n",
              "      <th>PassengerId</th>\n",
              "      <td>int64</td>\n",
              "    </tr>\n",
              "    <tr>\n",
              "      <th>Survived</th>\n",
              "      <td>int64</td>\n",
              "    </tr>\n",
              "    <tr>\n",
              "      <th>Pclass</th>\n",
              "      <td>category</td>\n",
              "    </tr>\n",
              "    <tr>\n",
              "      <th>Name</th>\n",
              "      <td>string[python]</td>\n",
              "    </tr>\n",
              "    <tr>\n",
              "      <th>Sex</th>\n",
              "      <td>category</td>\n",
              "    </tr>\n",
              "    <tr>\n",
              "      <th>Age</th>\n",
              "      <td>float64</td>\n",
              "    </tr>\n",
              "    <tr>\n",
              "      <th>SibSp</th>\n",
              "      <td>int64</td>\n",
              "    </tr>\n",
              "    <tr>\n",
              "      <th>Parch</th>\n",
              "      <td>int64</td>\n",
              "    </tr>\n",
              "    <tr>\n",
              "      <th>Ticket</th>\n",
              "      <td>string[python]</td>\n",
              "    </tr>\n",
              "    <tr>\n",
              "      <th>Fare</th>\n",
              "      <td>float64</td>\n",
              "    </tr>\n",
              "    <tr>\n",
              "      <th>Embarked</th>\n",
              "      <td>category</td>\n",
              "    </tr>\n",
              "  </tbody>\n",
              "</table>\n",
              "</div><br><label><b>dtype:</b> object</label>"
            ]
          },
          "metadata": {},
          "execution_count": 22
        }
      ]
    },
    {
      "cell_type": "markdown",
      "source": [
        "Verifying updated data types in the testing dataset"
      ],
      "metadata": {
        "id": "xDhPnU5C_y-7"
      }
    },
    {
      "cell_type": "code",
      "source": [
        "test_df.dtypes"
      ],
      "metadata": {
        "colab": {
          "base_uri": "https://localhost:8080/",
          "height": 397
        },
        "id": "Y-kA8I33wLH8",
        "outputId": "79475bf2-febc-4a92-db5a-06bd5af74b5b"
      },
      "execution_count": null,
      "outputs": [
        {
          "output_type": "execute_result",
          "data": {
            "text/plain": [
              "PassengerId             int64\n",
              "Pclass                  int64\n",
              "Name           string[python]\n",
              "Sex                  category\n",
              "Age                   float64\n",
              "SibSp                   int64\n",
              "Parch                   int64\n",
              "Ticket         string[python]\n",
              "Fare                  float64\n",
              "Embarked             category\n",
              "dtype: object"
            ],
            "text/html": [
              "<div>\n",
              "<style scoped>\n",
              "    .dataframe tbody tr th:only-of-type {\n",
              "        vertical-align: middle;\n",
              "    }\n",
              "\n",
              "    .dataframe tbody tr th {\n",
              "        vertical-align: top;\n",
              "    }\n",
              "\n",
              "    .dataframe thead th {\n",
              "        text-align: right;\n",
              "    }\n",
              "</style>\n",
              "<table border=\"1\" class=\"dataframe\">\n",
              "  <thead>\n",
              "    <tr style=\"text-align: right;\">\n",
              "      <th></th>\n",
              "      <th>0</th>\n",
              "    </tr>\n",
              "  </thead>\n",
              "  <tbody>\n",
              "    <tr>\n",
              "      <th>PassengerId</th>\n",
              "      <td>int64</td>\n",
              "    </tr>\n",
              "    <tr>\n",
              "      <th>Pclass</th>\n",
              "      <td>int64</td>\n",
              "    </tr>\n",
              "    <tr>\n",
              "      <th>Name</th>\n",
              "      <td>string[python]</td>\n",
              "    </tr>\n",
              "    <tr>\n",
              "      <th>Sex</th>\n",
              "      <td>category</td>\n",
              "    </tr>\n",
              "    <tr>\n",
              "      <th>Age</th>\n",
              "      <td>float64</td>\n",
              "    </tr>\n",
              "    <tr>\n",
              "      <th>SibSp</th>\n",
              "      <td>int64</td>\n",
              "    </tr>\n",
              "    <tr>\n",
              "      <th>Parch</th>\n",
              "      <td>int64</td>\n",
              "    </tr>\n",
              "    <tr>\n",
              "      <th>Ticket</th>\n",
              "      <td>string[python]</td>\n",
              "    </tr>\n",
              "    <tr>\n",
              "      <th>Fare</th>\n",
              "      <td>float64</td>\n",
              "    </tr>\n",
              "    <tr>\n",
              "      <th>Embarked</th>\n",
              "      <td>category</td>\n",
              "    </tr>\n",
              "  </tbody>\n",
              "</table>\n",
              "</div><br><label><b>dtype:</b> object</label>"
            ]
          },
          "metadata": {},
          "execution_count": 23
        }
      ]
    },
    {
      "cell_type": "markdown",
      "source": [
        "**Encoding Categorical Variables**"
      ],
      "metadata": {
        "id": "lvpemHtkLtHi"
      }
    },
    {
      "cell_type": "markdown",
      "source": [
        "Label Encoding 'Sex' and 'Embarked' columns"
      ],
      "metadata": {
        "id": "ykgtoZf1AE3P"
      }
    },
    {
      "cell_type": "code",
      "source": [
        "import pandas as pd\n",
        "from sklearn.preprocessing import LabelEncoder\n",
        "le= LabelEncoder()\n",
        "train_df['Sex']=le.fit_transform(train_df['Sex'])\n",
        "train_df['Embarked']=le.fit_transform(train_df['Embarked'])\n",
        "test_df['Sex']=le.fit_transform(test_df['Sex'])\n",
        "test_df['Embarked']=le.fit_transform(test_df['Embarked'])\n",
        "\n"
      ],
      "metadata": {
        "id": "9F37GrqGyiqc"
      },
      "execution_count": null,
      "outputs": []
    },
    {
      "cell_type": "markdown",
      "source": [
        "Verifying updated data types in the testing dataset"
      ],
      "metadata": {
        "id": "Dv7mVFl_AfL1"
      }
    },
    {
      "cell_type": "code",
      "source": [
        "test_df.dtypes"
      ],
      "metadata": {
        "colab": {
          "base_uri": "https://localhost:8080/",
          "height": 397
        },
        "id": "PCfb8Ry12PZi",
        "outputId": "655f0c74-8b4d-4bf9-c316-8daf178ddd02"
      },
      "execution_count": null,
      "outputs": [
        {
          "output_type": "execute_result",
          "data": {
            "text/plain": [
              "PassengerId             int64\n",
              "Pclass                  int64\n",
              "Name           string[python]\n",
              "Sex                     int64\n",
              "Age                   float64\n",
              "SibSp                   int64\n",
              "Parch                   int64\n",
              "Ticket         string[python]\n",
              "Fare                  float64\n",
              "Embarked                int64\n",
              "dtype: object"
            ],
            "text/html": [
              "<div>\n",
              "<style scoped>\n",
              "    .dataframe tbody tr th:only-of-type {\n",
              "        vertical-align: middle;\n",
              "    }\n",
              "\n",
              "    .dataframe tbody tr th {\n",
              "        vertical-align: top;\n",
              "    }\n",
              "\n",
              "    .dataframe thead th {\n",
              "        text-align: right;\n",
              "    }\n",
              "</style>\n",
              "<table border=\"1\" class=\"dataframe\">\n",
              "  <thead>\n",
              "    <tr style=\"text-align: right;\">\n",
              "      <th></th>\n",
              "      <th>0</th>\n",
              "    </tr>\n",
              "  </thead>\n",
              "  <tbody>\n",
              "    <tr>\n",
              "      <th>PassengerId</th>\n",
              "      <td>int64</td>\n",
              "    </tr>\n",
              "    <tr>\n",
              "      <th>Pclass</th>\n",
              "      <td>int64</td>\n",
              "    </tr>\n",
              "    <tr>\n",
              "      <th>Name</th>\n",
              "      <td>string[python]</td>\n",
              "    </tr>\n",
              "    <tr>\n",
              "      <th>Sex</th>\n",
              "      <td>int64</td>\n",
              "    </tr>\n",
              "    <tr>\n",
              "      <th>Age</th>\n",
              "      <td>float64</td>\n",
              "    </tr>\n",
              "    <tr>\n",
              "      <th>SibSp</th>\n",
              "      <td>int64</td>\n",
              "    </tr>\n",
              "    <tr>\n",
              "      <th>Parch</th>\n",
              "      <td>int64</td>\n",
              "    </tr>\n",
              "    <tr>\n",
              "      <th>Ticket</th>\n",
              "      <td>string[python]</td>\n",
              "    </tr>\n",
              "    <tr>\n",
              "      <th>Fare</th>\n",
              "      <td>float64</td>\n",
              "    </tr>\n",
              "    <tr>\n",
              "      <th>Embarked</th>\n",
              "      <td>int64</td>\n",
              "    </tr>\n",
              "  </tbody>\n",
              "</table>\n",
              "</div><br><label><b>dtype:</b> object</label>"
            ]
          },
          "metadata": {},
          "execution_count": 25
        }
      ]
    },
    {
      "cell_type": "markdown",
      "source": [
        "Verifying updated data types in the training dataset"
      ],
      "metadata": {
        "id": "ylYFELdQAhE-"
      }
    },
    {
      "cell_type": "code",
      "source": [
        "train_df.dtypes"
      ],
      "metadata": {
        "colab": {
          "base_uri": "https://localhost:8080/",
          "height": 429
        },
        "id": "09dpuiJj3D5F",
        "outputId": "8921dfce-7385-49de-d33c-d527f52046f9"
      },
      "execution_count": null,
      "outputs": [
        {
          "output_type": "execute_result",
          "data": {
            "text/plain": [
              "PassengerId             int64\n",
              "Survived                int64\n",
              "Pclass               category\n",
              "Name           string[python]\n",
              "Sex                     int64\n",
              "Age                   float64\n",
              "SibSp                   int64\n",
              "Parch                   int64\n",
              "Ticket         string[python]\n",
              "Fare                  float64\n",
              "Embarked                int64\n",
              "dtype: object"
            ],
            "text/html": [
              "<div>\n",
              "<style scoped>\n",
              "    .dataframe tbody tr th:only-of-type {\n",
              "        vertical-align: middle;\n",
              "    }\n",
              "\n",
              "    .dataframe tbody tr th {\n",
              "        vertical-align: top;\n",
              "    }\n",
              "\n",
              "    .dataframe thead th {\n",
              "        text-align: right;\n",
              "    }\n",
              "</style>\n",
              "<table border=\"1\" class=\"dataframe\">\n",
              "  <thead>\n",
              "    <tr style=\"text-align: right;\">\n",
              "      <th></th>\n",
              "      <th>0</th>\n",
              "    </tr>\n",
              "  </thead>\n",
              "  <tbody>\n",
              "    <tr>\n",
              "      <th>PassengerId</th>\n",
              "      <td>int64</td>\n",
              "    </tr>\n",
              "    <tr>\n",
              "      <th>Survived</th>\n",
              "      <td>int64</td>\n",
              "    </tr>\n",
              "    <tr>\n",
              "      <th>Pclass</th>\n",
              "      <td>category</td>\n",
              "    </tr>\n",
              "    <tr>\n",
              "      <th>Name</th>\n",
              "      <td>string[python]</td>\n",
              "    </tr>\n",
              "    <tr>\n",
              "      <th>Sex</th>\n",
              "      <td>int64</td>\n",
              "    </tr>\n",
              "    <tr>\n",
              "      <th>Age</th>\n",
              "      <td>float64</td>\n",
              "    </tr>\n",
              "    <tr>\n",
              "      <th>SibSp</th>\n",
              "      <td>int64</td>\n",
              "    </tr>\n",
              "    <tr>\n",
              "      <th>Parch</th>\n",
              "      <td>int64</td>\n",
              "    </tr>\n",
              "    <tr>\n",
              "      <th>Ticket</th>\n",
              "      <td>string[python]</td>\n",
              "    </tr>\n",
              "    <tr>\n",
              "      <th>Fare</th>\n",
              "      <td>float64</td>\n",
              "    </tr>\n",
              "    <tr>\n",
              "      <th>Embarked</th>\n",
              "      <td>int64</td>\n",
              "    </tr>\n",
              "  </tbody>\n",
              "</table>\n",
              "</div><br><label><b>dtype:</b> object</label>"
            ]
          },
          "metadata": {},
          "execution_count": 26
        }
      ]
    },
    {
      "cell_type": "markdown",
      "source": [
        "**Feature Scaling(Normalize or Standardize data)**"
      ],
      "metadata": {
        "id": "BXMVwg5tL141"
      }
    },
    {
      "cell_type": "markdown",
      "source": [
        "Applying RobustScaler on 'Age' and 'Fare' columns"
      ],
      "metadata": {
        "id": "4VmSmZ0-AlVL"
      }
    },
    {
      "cell_type": "code",
      "source": [
        "from sklearn.preprocessing import RobustScaler\n",
        "\n",
        "# Create a scaler object\n",
        "scaler = RobustScaler()\n",
        "\n",
        "# Fit on train, transform both train and test\n",
        "train_df[['Age', 'Fare']] = scaler.fit_transform(train_df[['Age', 'Fare']])\n",
        "test_df[['Age', 'Fare']] = scaler.transform(test_df[['Age', 'Fare']])\n"
      ],
      "metadata": {
        "id": "BQoTp0yA3Hcq"
      },
      "execution_count": null,
      "outputs": []
    },
    {
      "cell_type": "markdown",
      "source": [
        "Min and Max values of 'Age'and 'Fare' after scaling"
      ],
      "metadata": {
        "id": "chUPFigKA3Ca"
      }
    },
    {
      "cell_type": "code",
      "source": [
        "print(train_df['Age'].min(),train_df['Age'].max())\n",
        "print(train_df['Fare'].min(),train_df['Fare'].max())\n",
        "print(test_df['Age'].min(),test_df['Age'].max())\n",
        "print(test_df['Fare'].min(),test_df['Fare'].max())"
      ],
      "metadata": {
        "colab": {
          "base_uri": "https://localhost:8080/"
        },
        "id": "m91086u97Mf6",
        "outputId": "69a755ad-0064-4242-939d-f8bbec5bb997"
      },
      "execution_count": null,
      "outputs": [
        {
          "output_type": "stream",
          "name": "stdout",
          "text": [
            "-2.1215384615384614 4.0\n",
            "-0.6260047813734322 21.56273820248077\n",
            "-2.1407692307692305 3.6923076923076925\n",
            "-0.6260047813734322 21.56273820248077\n"
          ]
        }
      ]
    },
    {
      "cell_type": "markdown",
      "source": [
        "**Detecting Outliers,Handling Outliers and Dropping Irrelevant Columns**"
      ],
      "metadata": {
        "id": "h-umV_TbMBgs"
      }
    },
    {
      "cell_type": "markdown",
      "source": [
        "Visualizing outliers in 'Age' using Seaborn Boxplots(training dataset)"
      ],
      "metadata": {
        "id": "6sIwcflFBZ9K"
      }
    },
    {
      "cell_type": "code",
      "source": [
        "import matplotlib.pyplot as plt\n",
        "import seaborn as sns\n",
        "sns.boxplot(x=train_df['Age'])\n",
        "plt.show()"
      ],
      "metadata": {
        "colab": {
          "base_uri": "https://localhost:8080/",
          "height": 449
        },
        "id": "8bvym66u94O4",
        "outputId": "59c886b5-7451-4cfa-cca6-ba08b9027f14"
      },
      "execution_count": null,
      "outputs": [
        {
          "output_type": "display_data",
          "data": {
            "text/plain": [
              "<Figure size 640x480 with 1 Axes>"
            ],
            "image/png": "[encoded data removed]"
          },
          "metadata": {}
        }
      ]
    },
    {
      "cell_type": "markdown",
      "source": [
        "Visualizing outliers in 'Fare' using Seaborn Boxplots (train)"
      ],
      "metadata": {
        "id": "qn7bGHrgBNvz"
      }
    },
    {
      "cell_type": "code",
      "source": [
        "import matplotlib.pyplot as plt\n",
        "import seaborn as sns\n",
        "sns.boxplot(x=train_df['Fare'])\n",
        "plt.show()"
      ],
      "metadata": {
        "colab": {
          "base_uri": "https://localhost:8080/",
          "height": 449
        },
        "id": "sVUbz60B-chx",
        "outputId": "60a35368-c82b-445e-d04e-4b80fc6859d1"
      },
      "execution_count": null,
      "outputs": [
        {
          "output_type": "display_data",
          "data": {
            "text/plain": [
              "<Figure size 640x480 with 1 Axes>"
            ],
            "image/png": "[encoded data removed]"
          },
          "metadata": {}
        }
      ]
    },
    {
      "cell_type": "markdown",
      "source": [
        "Calculating IQR for 'Age' and 'Fare' to detect outliners (training)"
      ],
      "metadata": {
        "id": "MO8WHQDIBc1q"
      }
    },
    {
      "cell_type": "code",
      "source": [
        "Q1_age = train_df['Age'].quantile(0.25)\n",
        "Q3_age = train_df['Age'].quantile(0.75)\n",
        "IQR_age = Q3_age - Q1_age\n",
        "\n",
        "lower_age = Q1_age - 1.5 * IQR_age\n",
        "upper_age = Q3_age + 1.5 * IQR_age\n",
        "\n",
        "outliers_age = train_df[(train_df['Age'] < lower_age) | (train_df['Age'] > upper_age)]\n",
        "print(\"Age outliers:\\n\", outliers_age)\n",
        "\n",
        "# Repeat similarly for Fare\n",
        "Q1_fare = train_df['Fare'].quantile(0.25)\n",
        "Q3_fare = train_df['Fare'].quantile(0.75)\n",
        "IQR_fare = Q3_fare - Q1_fare\n",
        "\n",
        "lower_fare = Q1_fare - 1.5 * IQR_fare\n",
        "upper_fare = Q3_fare + 1.5 * IQR_fare\n",
        "\n",
        "outliers_fare = train_df[(train_df['Fare'] < lower_fare) | (train_df['Fare'] > upper_fare)]\n",
        "print(\"Fare outliers:\\n\", outliers_fare)"
      ],
      "metadata": {
        "colab": {
          "base_uri": "https://localhost:8080/"
        },
        "id": "hyVcV5oG_GTH",
        "outputId": "0dff41ac-2e03-4a0a-fa06-6ac58ce9148c"
      },
      "execution_count": null,
      "outputs": [
        {
          "output_type": "stream",
          "name": "stdout",
          "text": [
            "Age outliers:\n",
            "      PassengerId  Survived Pclass  \\\n",
            "7              8         0      3   \n",
            "11            12         1      1   \n",
            "15            16         1      2   \n",
            "16            17         0      3   \n",
            "33            34         0      2   \n",
            "..           ...       ...    ...   \n",
            "827          828         1      2   \n",
            "829          830         1      1   \n",
            "831          832         1      2   \n",
            "851          852         0      3   \n",
            "879          880         1      1   \n",
            "\n",
            "                                              Name  Sex       Age  SibSp  \\\n",
            "7                   Palsson, Master. Gosta Leonard    1 -2.000000      3   \n",
            "11                        Bonnell, Miss. Elizabeth    0  2.307692      0   \n",
            "15                Hewlett, Mrs. (Mary D Kingcome)     0  2.076923      0   \n",
            "16                            Rice, Master. Eugene    1 -2.000000      4   \n",
            "33                           Wheadon, Mr. Edward H    1  2.923077      0   \n",
            "..                                             ...  ...       ...    ...   \n",
            "827                          Mallet, Master. Andre    1 -2.076923      0   \n",
            "829      Stone, Mrs. George Nelson (Martha Evelyn)    0  2.615385      0   \n",
            "831                Richards, Master. George Sibley    1 -2.090000      1   \n",
            "851                            Svensson, Mr. Johan    1  3.538462      0   \n",
            "879  Potter, Mrs. Thomas Jr (Lily Alexenia Wilson)    0  2.153846      0   \n",
            "\n",
            "     Parch           Ticket      Fare  Embarked  \n",
            "7        1           349909  0.286744         2  \n",
            "11       0           113783  0.523864         2  \n",
            "15       0           248706  0.066948         2  \n",
            "16       1           382652  0.635386         1  \n",
            "33       0       C.A. 24579 -0.171255         2  \n",
            "..     ...              ...       ...       ...  \n",
            "827      2  S.C./PARIS 2079  0.976630         0  \n",
            "829      0           113572  2.838759         2  \n",
            "831      1            29106  0.186049         2  \n",
            "851      0           347060 -0.289273         2  \n",
            "879      1            11767  2.975543         0  \n",
            "\n",
            "[66 rows x 11 columns]\n",
            "Fare outliers:\n",
            "      PassengerId  Survived Pclass  \\\n",
            "1              2         1      1   \n",
            "27            28         0      1   \n",
            "31            32         1      1   \n",
            "34            35         0      1   \n",
            "52            53         1      1   \n",
            "..           ...       ...    ...   \n",
            "846          847         0      3   \n",
            "849          850         1      1   \n",
            "856          857         1      1   \n",
            "863          864         0      3   \n",
            "879          880         1      1   \n",
            "\n",
            "                                                  Name  Sex       Age  SibSp  \\\n",
            "1    Cumings, Mrs. John Bradley (Florence Briggs Th...    0  0.769231      1   \n",
            "27                      Fortune, Mr. Charles Alexander    1 -0.692308      3   \n",
            "31      Spencer, Mrs. William Augustus (Marie Eugenie)    0  0.000000      1   \n",
            "34                             Meyer, Mr. Edgar Joseph    1  0.000000      1   \n",
            "52            Harper, Mrs. Henry Sleeper (Myna Haxtun)    0  1.615385      1   \n",
            "..                                                 ...  ...       ...    ...   \n",
            "846                           Sage, Mr. Douglas Bullen    1  0.000000      8   \n",
            "849       Goldenberg, Mrs. Samuel L (Edwiga Grabowska)    0  0.000000      1   \n",
            "856         Wick, Mrs. George Dennick (Mary Hitchcock)    0  1.307692      1   \n",
            "863                  Sage, Miss. Dorothy Edith \"Dolly\"    0  0.000000      8   \n",
            "879      Potter, Mrs. Thomas Jr (Lily Alexenia Wilson)    0  2.153846      0   \n",
            "\n",
            "     Parch    Ticket       Fare  Embarked  \n",
            "1        0  PC 17599   2.461242         0  \n",
            "27       2     19950  10.764405         2  \n",
            "31       0  PC 17569   5.719744         0  \n",
            "34       0  PC 17604   2.932775         0  \n",
            "52       0  PC 17572   2.697102         0  \n",
            "..     ...       ...        ...       ...  \n",
            "846      2  CA. 2343   2.386174         2  \n",
            "849      0     17453   3.233057         0  \n",
            "856      1     36928   6.514296         2  \n",
            "863      2  CA. 2343   2.386174         2  \n",
            "879      1     11767   2.975543         0  \n",
            "\n",
            "[116 rows x 11 columns]\n"
          ]
        }
      ]
    },
    {
      "cell_type": "markdown",
      "source": [
        "Applying RobustScaler(training)"
      ],
      "metadata": {
        "id": "W_5IcMK4BxTn"
      }
    },
    {
      "cell_type": "code",
      "source": [
        "from sklearn.preprocessing import RobustScaler\n",
        "\n",
        "scaler = RobustScaler()\n",
        "train_df[['Age_scaled', 'Fare_scaled']] = scaler.fit_transform(train_df[['Age', 'Fare']])"
      ],
      "metadata": {
        "id": "AM_cmLCO_gF3"
      },
      "execution_count": null,
      "outputs": []
    },
    {
      "cell_type": "markdown",
      "source": [
        "Dropped irrevelant columns(training)"
      ],
      "metadata": {
        "id": "v8cQ9qR5B8b7"
      }
    },
    {
      "cell_type": "code",
      "source": [
        "train_df.drop(['PassengerId','Name','Ticket'],axis=1,inplace=True)\n"
      ],
      "metadata": {
        "id": "PcE-pMbgIIxJ"
      },
      "execution_count": null,
      "outputs": []
    },
    {
      "cell_type": "markdown",
      "source": [
        "Visualizing outliers in 'Age' using Seaborn Boxplots(testing dataset)"
      ],
      "metadata": {
        "id": "dYE41azXC9rN"
      }
    },
    {
      "cell_type": "code",
      "source": [
        "import matplotlib.pyplot as plt\n",
        "import seaborn as sns\n",
        "sns.boxplot(x=test_df['Age'])\n",
        "plt.show()"
      ],
      "metadata": {
        "colab": {
          "base_uri": "https://localhost:8080/",
          "height": 449
        },
        "id": "w_PGGi2lVK7q",
        "outputId": "fd2c5c46-28f1-4c72-d695-7cc399b9813b"
      },
      "execution_count": null,
      "outputs": [
        {
          "output_type": "display_data",
          "data": {
            "text/plain": [
              "<Figure size 640x480 with 1 Axes>"
            ],
            "image/png": "[encoded data removed]"
          },
          "metadata": {}
        }
      ]
    },
    {
      "cell_type": "markdown",
      "source": [
        "Visualizing outliers in 'Fare' using Seaborn Boxplots(testing dataset)"
      ],
      "metadata": {
        "id": "yK730WbcDBmp"
      }
    },
    {
      "cell_type": "code",
      "source": [
        "import matplotlib.pyplot as plt\n",
        "import seaborn as sns\n",
        "sns.boxplot(x=test_df['Fare'])\n",
        "plt.show()"
      ],
      "metadata": {
        "colab": {
          "base_uri": "https://localhost:8080/",
          "height": 449
        },
        "id": "_gNf_CbnVTCa",
        "outputId": "8e6a232d-f1c2-4835-d975-0b57d3dca13e"
      },
      "execution_count": null,
      "outputs": [
        {
          "output_type": "display_data",
          "data": {
            "text/plain": [
              "<Figure size 640x480 with 1 Axes>"
            ],
            "image/png": "[encoded data removed]"
          },
          "metadata": {}
        }
      ]
    },
    {
      "cell_type": "markdown",
      "source": [
        "Calculating IQR for 'Age' and 'Fare' to detect outliers (testing dataset)"
      ],
      "metadata": {
        "id": "FFhnrOkDDFE9"
      }
    },
    {
      "cell_type": "code",
      "source": [
        "Q1_age = test_df['Age'].quantile(0.25)\n",
        "Q3_age = test_df['Age'].quantile(0.75)\n",
        "IQR_age = Q3_age - Q1_age\n",
        "\n",
        "lower_age = Q1_age - 1.5 * IQR_age\n",
        "upper_age = Q3_age + 1.5 * IQR_age\n",
        "\n",
        "outliers_age = test_df[(test_df['Age'] < lower_age) | (test_df['Age'] > upper_age)]\n",
        "print(\"Age outliers:\\n\", outliers_age)\n",
        "\n",
        "# Repeat similarly for Fare\n",
        "Q1_fare = test_df['Fare'].quantile(0.25)\n",
        "Q3_fare = test_df['Fare'].quantile(0.75)\n",
        "IQR_fare = Q3_fare - Q1_fare\n",
        "\n",
        "lower_fare = Q1_fare - 1.5 * IQR_fare\n",
        "upper_fare = Q3_fare + 1.5 * IQR_fare\n",
        "\n",
        "outliers_fare = test_df[(test_df['Fare'] < lower_fare) | (test_df['Fare'] > upper_fare)]\n",
        "print(\"Fare outliers:\\n\", outliers_fare)"
      ],
      "metadata": {
        "colab": {
          "base_uri": "https://localhost:8080/"
        },
        "id": "6H60f2hTVgCq",
        "outputId": "59a7b9bc-2dc0-4779-a5a4-9cbb40d98fc4"
      },
      "execution_count": null,
      "outputs": [
        {
          "output_type": "stream",
          "name": "stdout",
          "text": [
            "Age outliers:\n",
            "      PassengerId  Pclass                                               Name  \\\n",
            "2            894       2                          Myles, Mr. Thomas Francis   \n",
            "13           905       2                               Howard, Mr. Benjamin   \n",
            "20           912       1                             Rothschild, Mr. Martin   \n",
            "48           940       1    Bucknell, Mrs. William Robert (Emma Eliza Ward)   \n",
            "69           961       1                Fortune, Mrs. Mark (Mary McDougald)   \n",
            "77           969       1  Cornell, Mrs. Robert Clifford (Malvina Helen L...   \n",
            "81           973       1                                 Straus, Mr. Isidor   \n",
            "89           981       2                        Wells, Master. Ralph Lester   \n",
            "96           988       1  Cavendish, Mrs. Tyrell William (Julia Florence...   \n",
            "114         1006       1             Straus, Mrs. Isidor (Rosalie Ida Blun)   \n",
            "117         1009       3                    Sandstrom, Miss. Beatrice Irene   \n",
            "142         1034       1                         Ryerson, Mr. Arthur Larned   \n",
            "152         1044       3                                 Storey, Mr. Thomas   \n",
            "179         1071       1  Compton, Mrs. Alexander Taylor (Mary Eliza Ing...   \n",
            "193         1085       2                                  Lingane, Mr. John   \n",
            "201         1093       3            Danbom, Master. Gilbert Sigvard Emanuel   \n",
            "213         1105       2       Howard, Mrs. Benjamin (Ellen Truelove Arman)   \n",
            "217         1109       1                           Wick, Mr. George Dennick   \n",
            "236         1128       1                           Warren, Mr. Frank Manley   \n",
            "240         1132       1          Lindstrom, Mrs. Carl Johan (Sigrid Posse)   \n",
            "250         1142       2                              West, Miss. Barbara J   \n",
            "263         1155       3                       Klasen, Miss. Gertrud Emilia   \n",
            "281         1173       3                     Peacock, Master. Alfred Edward   \n",
            "284         1176       3                        Rosblom, Miss. Salli Helena   \n",
            "296         1188       2                              Laroche, Miss. Louise   \n",
            "305         1197       1  Crosby, Mrs. Edward Gifford (Catherine Elizabe...   \n",
            "307         1199       3                          Aks, Master. Philip Frank   \n",
            "308         1200       1                         Hays, Mr. Charles Melville   \n",
            "314         1206       1              White, Mrs. John Stuart (Ella Holmes)   \n",
            "316         1208       1                      Spencer, Mr. William Augustus   \n",
            "343         1235       1  Cardeza, Mrs. James Warburton Martinez (Charlo...   \n",
            "354         1246       3            Dean, Miss. Elizabeth Gladys Millvina\"\"   \n",
            "356         1248       1     Brown, Mrs. John Murray (Caroline Lane Lamson)   \n",
            "378         1270       1                        Hipkins, Mr. William Edward   \n",
            "387         1279       2                                    Ashby, Mr. John   \n",
            "409         1301       3                          Peacock, Miss. Treasteall   \n",
            "\n",
            "     Sex       Age  SibSp  Parch              Ticket       Fare  Embarked  \n",
            "2      1  2.615385      0      0              240276  -0.206444         1  \n",
            "13     1  2.692308      1      0               24065   0.500043         2  \n",
            "20     1  2.076923      1      0            PC 17603   1.946582         0  \n",
            "48     0  2.461538      0      0               11813   2.678154         0  \n",
            "69     0  2.461538      1      4               19950  10.764405         2  \n",
            "77     0  2.076923      2      0               11770   0.487050         2  \n",
            "81     1  3.000000      1      0            PC 17483   8.979151         2  \n",
            "89     1 -2.000000      1      1               29103   0.370115         2  \n",
            "96     0  3.692308      1      0               19877   2.788953         2  \n",
            "114    0  2.692308      1      0            PC 17483   8.979151         2  \n",
            "117    0 -2.076923      1      1             PP 9549   0.097265         2  \n",
            "142    1  2.538462      1      3            PC 17608  10.737336         0  \n",
            "152    1  2.500000      0      0                3701   0.000000         2  \n",
            "179    0  2.769231      0      2            PC 17756   2.975543         0  \n",
            "193    1  2.538462      0      0              235509  -0.091132         1  \n",
            "201    1 -2.128462      0      2              347080  -0.002347         2  \n",
            "213    0  2.461538      1      0               24065   0.500043         2  \n",
            "217    1  2.230769      1      1               36928   6.514296         2  \n",
            "236    1  2.769231      1      0              110813   2.633038         0  \n",
            "240    0  2.076923      0      0              112377   0.574570         0  \n",
            "250    0 -2.083077      1      2          C.A. 34651   0.575835         2  \n",
            "263    0 -2.076923      1      1              350405  -0.098352         2  \n",
            "281    1 -2.096154      1      1  SOTON/O.Q. 3101315  -0.029416         2  \n",
            "284    0 -2.000000      1      1              370129   0.249389         2  \n",
            "296    0 -2.076923      1      2       SC/Paris 2123   1.174771         0  \n",
            "305    0  2.769231      1      1              112901   0.523864         2  \n",
            "307    1 -2.090000      0      1              392091  -0.221061         2  \n",
            "308    1  2.076923      1      1               12749   3.423437         2  \n",
            "314    0  2.076923      0      0            PC 17760   5.248211         0  \n",
            "316    1  2.230769      1      0            PC 17569   5.719744         0  \n",
            "343    0  2.307692      0      1            PC 17755  21.562738         0  \n",
            "354    0 -2.140769      1      2           C.A. 2315   0.265089         2  \n",
            "356    0  2.384615      2      0               11769   1.603536         2  \n",
            "378    1  2.076923      0      0                 680   1.539472         2  \n",
            "387    1  2.230769      0      0              244346  -0.062981         2  \n",
            "409    0 -1.923077      1      1  SOTON/O.Q. 3101315  -0.029416         2  \n",
            "Fare outliers:\n",
            "      PassengerId  Pclass                                               Name  \\\n",
            "12           904       1      Snyder, Mrs. John Pillsbury (Nelle Stevenson)   \n",
            "24           916       1    Ryerson, Mrs. Arthur Larned (Emily Maria Borie)   \n",
            "48           940       1    Bucknell, Mrs. William Robert (Emma Eliza Ward)   \n",
            "53           945       1                         Fortune, Miss. Ethel Flora   \n",
            "59           951       1                        Chaudanson, Miss. Victorine   \n",
            "64           956       1                        Ryerson, Master. John Borie   \n",
            "69           961       1                Fortune, Mrs. Mark (Mary McDougald)   \n",
            "74           966       1                               Geiger, Miss. Amalie   \n",
            "75           967       1                                 Keeping, Mr. Edwin   \n",
            "81           973       1                                 Straus, Mr. Isidor   \n",
            "96           988       1  Cavendish, Mrs. Tyrell William (Julia Florence...   \n",
            "114         1006       1             Straus, Mrs. Isidor (Rosalie Ida Blun)   \n",
            "118         1010       1                               Beattie, Mr. Thomson   \n",
            "141         1033       1                               Daniels, Miss. Sarah   \n",
            "142         1034       1                         Ryerson, Mr. Arthur Larned   \n",
            "150         1042       1              Earnshaw, Mrs. Boulton (Olive Potter)   \n",
            "156         1048       1                                  Bird, Miss. Ellen   \n",
            "179         1071       1  Compton, Mrs. Alexander Taylor (Mary Eliza Ing...   \n",
            "181         1073       1                   Compton, Mr. Alexander Taylor Jr   \n",
            "184         1076       1  Douglas, Mrs. Frederick Charles (Mary Helene B...   \n",
            "188         1080       3                                    Sage, Miss. Ada   \n",
            "196         1088       1                    Spedden, Master. Robert Douglas   \n",
            "202         1094       1                             Astor, Col. John Jacob   \n",
            "212         1104       2                          Deacon, Mr. Percy William   \n",
            "217         1109       1                           Wick, Mr. George Dennick   \n",
            "218         1110       1       Widener, Mrs. George Dunton (Eleanor Elkins)   \n",
            "234         1126       1                          Cumings, Mr. John Bradley   \n",
            "236         1128       1                           Warren, Mr. Frank Manley   \n",
            "239         1131       1        Douglas, Mrs. Walter Donald (Mahala Dutton)   \n",
            "242         1134       1                       Spedden, Mr. Frederic Oakley   \n",
            "252         1144       1                           Clark, Mr. Walter Miller   \n",
            "270         1162       1                       McCaffry, Mr. Thomas Francis   \n",
            "272         1164       1      Clark, Mrs. Walter Miller (Virginia McDowell)   \n",
            "287         1179       1                         Snyder, Mr. John Pillsbury   \n",
            "293         1185       1                              Dodge, Dr. Washington   \n",
            "306         1198       1               Allison, Mr. Hudson Joshua Creighton   \n",
            "308         1200       1                         Hays, Mr. Charles Melville   \n",
            "314         1206       1              White, Mrs. John Stuart (Ella Holmes)   \n",
            "316         1208       1                      Spencer, Mr. William Augustus   \n",
            "324         1216       1                             Kreuchen, Miss. Emilie   \n",
            "327         1219       1        Rosenshine, Mr. George (Mr George Thorne\")\"   \n",
            "342         1234       3                              Sage, Mr. John George   \n",
            "343         1235       1  Cardeza, Mrs. James Warburton Martinez (Charlo...   \n",
            "352         1244       2                                Dibden, Mr. William   \n",
            "360         1252       3                        Sage, Master. William Henry   \n",
            "365         1257       3                     Sage, Mrs. John (Annie Bullen)   \n",
            "371         1263       1                          Wilson, Miss. Helen Alice   \n",
            "374         1266       1              Dodge, Mrs. Washington (Ruth Vidaver)   \n",
            "375         1267       1                           Bowen, Miss. Grace Scott   \n",
            "390         1282       1                         Payne, Mr. Vivian Ponsonby   \n",
            "397         1289       1  Frolicher-Stehli, Mrs. Maxmillian (Margaretha ...   \n",
            "400         1292       1                            Bonnell, Miss. Caroline   \n",
            "407         1299       1                         Widener, Mr. George Dunton   \n",
            "411         1303       1    Minahan, Mrs. William Edward (Lillian E Thorpe)   \n",
            "414         1306       1                       Oliva y Ocana, Dona. Fermina   \n",
            "\n",
            "     Sex       Age  SibSp  Parch        Ticket       Fare  Embarked  \n",
            "12     0 -0.384615      1      0         21228   2.936928         2  \n",
            "24     0  1.538462      1      3      PC 17608  10.737336         0  \n",
            "48     0  2.461538      0      0         11813   2.678154         0  \n",
            "53     0  0.000000      3      2         19950  10.764405         2  \n",
            "59     0  0.615385      0      0      PC 17608  10.737336         0  \n",
            "64     1 -1.153846      2      2      PC 17608  10.737336         0  \n",
            "69     0  2.461538      1      4         19950  10.764405         2  \n",
            "74     0  0.538462      0      0        113503   8.533963         0  \n",
            "75     1  0.346154      0      0        113503   8.533963         0  \n",
            "81     1  3.000000      1      0      PC 17483   8.979151         2  \n",
            "96     0  3.692308      1      0         19877   2.788953         2  \n",
            "114    0  2.692308      1      0      PC 17483   8.979151         2  \n",
            "118    1  0.615385      0      0         13050   2.632679         0  \n",
            "141    0  0.384615      0      0        113781   5.937556         2  \n",
            "142    1  2.538462      1      3      PC 17608  10.737336         0  \n",
            "150    0 -0.384615      0      1         11767   2.975543         0  \n",
            "156    0  0.076923      0      0      PC 17483   8.979151         2  \n",
            "179    0  2.769231      0      2      PC 17756   2.975543         0  \n",
            "181    1  0.692308      1      1      PC 17756   2.975543         0  \n",
            "184    0 -0.076923      1      1      PC 17558  10.094008         0  \n",
            "188    0 -0.076923      8      2      CA. 2343   2.386174         2  \n",
            "196    1 -1.692308      0      2         16966   5.199129         0  \n",
            "202    1  1.461538      1      0      PC 17757   9.227999         0  \n",
            "212    1 -0.846154      0      0  S.O.C. 14879   2.557247         2  \n",
            "217    1  2.230769      1      1         36928   6.514296         2  \n",
            "218    0  1.692308      1      1        113503   8.533963         0  \n",
            "234    1  0.846154      1      0      PC 17599   2.461242         0  \n",
            "236    1  2.769231      1      0        110813   2.633038         0  \n",
            "239    0  1.538462      1      0      PC 17761   3.983213         0  \n",
            "242    1  1.307692      1      1         16966   5.199129         0  \n",
            "252    1 -0.076923      1      0         13508   5.297840         0  \n",
            "270    1  1.384615      0      0         13050   2.632679         0  \n",
            "272    0 -0.153846      1      0         13508   5.297840         0  \n",
            "287    1 -0.307692      1      0         21228   2.936928         2  \n",
            "293    1  1.923077      1      1         33638   2.919241         2  \n",
            "306    1  0.153846      1      2        113781   5.937556         2  \n",
            "308    1  2.076923      1      1         12749   3.423437         2  \n",
            "314    0  2.076923      0      0      PC 17760   5.248211         0  \n",
            "316    1  2.230769      1      0      PC 17569   5.719744         0  \n",
            "324    0  0.846154      0      0         24160   8.526926         2  \n",
            "327    1  1.384615      0      0      PC 17585   2.804111         0  \n",
            "342    1 -0.076923      1      9      CA. 2343   2.386174         2  \n",
            "343    0  2.307692      0      1      PC 17755  21.562738         0  \n",
            "352    1 -0.769231      0      0  S.O.C. 14879   2.557247         2  \n",
            "360    1 -1.038462      8      2      CA. 2343   2.386174         2  \n",
            "365    0 -0.076923      1      9      CA. 2343   2.386174         2  \n",
            "371    0  0.230769      0      0         16966   5.199129         0  \n",
            "374    0  2.000000      1      1         33638   2.919241         2  \n",
            "375    0  1.307692      0      0      PC 17608  10.737336         0  \n",
            "390    1 -0.384615      0      0         12749   3.423437         2  \n",
            "397    0  1.538462      1      1         13567   2.804111         0  \n",
            "400    0  0.153846      0      0         36928   6.514296         2  \n",
            "407    1  1.692308      1      1        113503   8.533963         0  \n",
            "411    0  0.692308      1      0         19928   3.271854         1  \n",
            "414    0  0.846154      0      0      PC 17758   4.090404         0  \n"
          ]
        }
      ]
    },
    {
      "cell_type": "markdown",
      "source": [
        "Applying RobustScaler(testing)"
      ],
      "metadata": {
        "id": "njIsJFbfDN48"
      }
    },
    {
      "cell_type": "code",
      "source": [
        "from sklearn.preprocessing import RobustScaler\n",
        "\n",
        "scaler = RobustScaler()\n",
        "test_df[['Age_scaled', 'Fare_scaled']] = scaler.fit_transform(test_df[['Age', 'Fare']])"
      ],
      "metadata": {
        "id": "E677zfFOV6JB"
      },
      "execution_count": null,
      "outputs": []
    },
    {
      "cell_type": "markdown",
      "source": [
        "Dropped irrevelant columns(testing)"
      ],
      "metadata": {
        "id": "ycfbSvE9DOsz"
      }
    },
    {
      "cell_type": "code",
      "source": [
        "# test_df.drop(['PassengerId','Name','Ticket'],axis=1,inplace=True)\n",
        "train_df.to_csv(\"cleaned_titanic.csv\",index=False)"
      ],
      "metadata": {
        "id": "tTb7_AqsWml6"
      },
      "execution_count": null,
      "outputs": []
    },
    {
      "cell_type": "markdown",
      "source": [
        "**Train-Test Split**"
      ],
      "metadata": {
        "id": "cJyKMBluMkKJ"
      }
    },
    {
      "cell_type": "markdown",
      "source": [
        "Splitting the dataset into features(X) and target variable (y) for training"
      ],
      "metadata": {
        "id": "2LY3AKmchorH"
      }
    },
    {
      "cell_type": "code",
      "source": [
        "from sklearn.model_selection import train_test_split\n",
        "X=train_df.drop('Survived',axis=1)\n",
        "y=train_df['Survived']"
      ],
      "metadata": {
        "id": "RyonzJCCXm_a"
      },
      "execution_count": null,
      "outputs": []
    },
    {
      "cell_type": "markdown",
      "source": [
        " Splitting the dataset into training and validation sets"
      ],
      "metadata": {
        "id": "yA9hbutKiKBp"
      }
    },
    {
      "cell_type": "code",
      "source": [
        "from sklearn.model_selection import train_test_split\n",
        "X_train,X_val,y_train,y_val=train_test_split(X,y,test_size =0.2,random_state=42)"
      ],
      "metadata": {
        "id": "sSNsgUHYYv1U"
      },
      "execution_count": null,
      "outputs": []
    },
    {
      "cell_type": "markdown",
      "source": [
        "Importing Logistic Regression and Training the Model"
      ],
      "metadata": {
        "id": "hw-MqrzVj2LW"
      }
    },
    {
      "cell_type": "code",
      "source": [
        "from sklearn.linear_model import LogisticRegression\n",
        "model = LogisticRegression()\n",
        "model.fit(X_train,y_train)"
      ],
      "metadata": {
        "colab": {
          "base_uri": "https://localhost:8080/",
          "height": 80
        },
        "id": "1kHGXw67Ykzq",
        "outputId": "ad9c7e44-a7db-46c8-81bc-51733487b03d"
      },
      "execution_count": null,
      "outputs": [
        {
          "output_type": "execute_result",
          "data": {
            "text/plain": [
              "LogisticRegression()"
            ],
            "text/html": [
              "<style>#sk-container-id-1 {\n",
              "  /* Definition of color scheme common for light and dark mode */\n",
              "  --sklearn-color-text: #000;\n",
              "  --sklearn-color-text-muted: #666;\n",
              "  --sklearn-color-line: gray;\n",
              "  /* Definition of color scheme for unfitted estimators */\n",
              "  --sklearn-color-unfitted-level-0: #fff5e6;\n",
              "  --sklearn-color-unfitted-level-1: #f6e4d2;\n",
              "  --sklearn-color-unfitted-level-2: #ffe0b3;\n",
              "  --sklearn-color-unfitted-level-3: chocolate;\n",
              "  /* Definition of color scheme for fitted estimators */\n",
              "  --sklearn-color-fitted-level-0: #f0f8ff;\n",
              "  --sklearn-color-fitted-level-1: #d4ebff;\n",
              "  --sklearn-color-fitted-level-2: #b3dbfd;\n",
              "  --sklearn-color-fitted-level-3: cornflowerblue;\n",
              "\n",
              "  /* Specific color for light theme */\n",
              "  --sklearn-color-text-on-default-background: var(--sg-text-color, var(--theme-code-foreground, var(--jp-content-font-color1, black)));\n",
              "  --sklearn-color-background: var(--sg-background-color, var(--theme-background, var(--jp-layout-color0, white)));\n",
              "  --sklearn-color-border-box: var(--sg-text-color, var(--theme-code-foreground, var(--jp-content-font-color1, black)));\n",
              "  --sklearn-color-icon: #696969;\n",
              "\n",
              "  @media (prefers-color-scheme: dark) {\n",
              "    /* Redefinition of color scheme for dark theme */\n",
              "    --sklearn-color-text-on-default-background: var(--sg-text-color, var(--theme-code-foreground, var(--jp-content-font-color1, white)));\n",
              "    --sklearn-color-background: var(--sg-background-color, var(--theme-background, var(--jp-layout-color0, #111)));\n",
              "    --sklearn-color-border-box: var(--sg-text-color, var(--theme-code-foreground, var(--jp-content-font-color1, white)));\n",
              "    --sklearn-color-icon: #878787;\n",
              "  }\n",
              "}\n",
              "\n",
              "#sk-container-id-1 {\n",
              "  color: var(--sklearn-color-text);\n",
              "}\n",
              "\n",
              "#sk-container-id-1 pre {\n",
              "  padding: 0;\n",
              "}\n",
              "\n",
              "#sk-container-id-1 input.sk-hidden--visually {\n",
              "  border: 0;\n",
              "  clip: rect(1px 1px 1px 1px);\n",
              "  clip: rect(1px, 1px, 1px, 1px);\n",
              "  height: 1px;\n",
              "  margin: -1px;\n",
              "  overflow: hidden;\n",
              "  padding: 0;\n",
              "  position: absolute;\n",
              "  width: 1px;\n",
              "}\n",
              "\n",
              "#sk-container-id-1 div.sk-dashed-wrapped {\n",
              "  border: 1px dashed var(--sklearn-color-line);\n",
              "  margin: 0 0.4em 0.5em 0.4em;\n",
              "  box-sizing: border-box;\n",
              "  padding-bottom: 0.4em;\n",
              "  background-color: var(--sklearn-color-background);\n",
              "}\n",
              "\n",
              "#sk-container-id-1 div.sk-container {\n",
              "  /* jupyter's `normalize.less` sets `[hidden] { display: none; }`\n",
              "     but bootstrap.min.css set `[hidden] { display: none !important; }`\n",
              "     so we also need the `!important` here to be able to override the\n",
              "     default hidden behavior on the sphinx rendered scikit-learn.org.\n",
              "     See: https://github.com/scikit-learn/scikit-learn/issues/21755 */\n",
              "  display: inline-block !important;\n",
              "  position: relative;\n",
              "}\n",
              "\n",
              "#sk-container-id-1 div.sk-text-repr-fallback {\n",
              "  display: none;\n",
              "}\n",
              "\n",
              "div.sk-parallel-item,\n",
              "div.sk-serial,\n",
              "div.sk-item {\n",
              "  /* draw centered vertical line to link estimators */\n",
              "  background-image: linear-gradient(var(--sklearn-color-text-on-default-background), var(--sklearn-color-text-on-default-background));\n",
              "  background-size: 2px 100%;\n",
              "  background-repeat: no-repeat;\n",
              "  background-position: center center;\n",
              "}\n",
              "\n",
              "/* Parallel-specific style estimator block */\n",
              "\n",
              "#sk-container-id-1 div.sk-parallel-item::after {\n",
              "  content: \"\";\n",
              "  width: 100%;\n",
              "  border-bottom: 2px solid var(--sklearn-color-text-on-default-background);\n",
              "  flex-grow: 1;\n",
              "}\n",
              "\n",
              "#sk-container-id-1 div.sk-parallel {\n",
              "  display: flex;\n",
              "  align-items: stretch;\n",
              "  justify-content: center;\n",
              "  background-color: var(--sklearn-color-background);\n",
              "  position: relative;\n",
              "}\n",
              "\n",
              "#sk-container-id-1 div.sk-parallel-item {\n",
              "  display: flex;\n",
              "  flex-direction: column;\n",
              "}\n",
              "\n",
              "#sk-container-id-1 div.sk-parallel-item:first-child::after {\n",
              "  align-self: flex-end;\n",
              "  width: 50%;\n",
              "}\n",
              "\n",
              "#sk-container-id-1 div.sk-parallel-item:last-child::after {\n",
              "  align-self: flex-start;\n",
              "  width: 50%;\n",
              "}\n",
              "\n",
              "#sk-container-id-1 div.sk-parallel-item:only-child::after {\n",
              "  width: 0;\n",
              "}\n",
              "\n",
              "/* Serial-specific style estimator block */\n",
              "\n",
              "#sk-container-id-1 div.sk-serial {\n",
              "  display: flex;\n",
              "  flex-direction: column;\n",
              "  align-items: center;\n",
              "  background-color: var(--sklearn-color-background);\n",
              "  padding-right: 1em;\n",
              "  padding-left: 1em;\n",
              "}\n",
              "\n",
              "\n",
              "/* Toggleable style: style used for estimator/Pipeline/ColumnTransformer box that is\n",
              "clickable and can be expanded/collapsed.\n",
              "- Pipeline and ColumnTransformer use this feature and define the default style\n",
              "- Estimators will overwrite some part of the style using the `sk-estimator` class\n",
              "*/\n",
              "\n",
              "/* Pipeline and ColumnTransformer style (default) */\n",
              "\n",
              "#sk-container-id-1 div.sk-toggleable {\n",
              "  /* Default theme specific background. It is overwritten whether we have a\n",
              "  specific estimator or a Pipeline/ColumnTransformer */\n",
              "  background-color: var(--sklearn-color-background);\n",
              "}\n",
              "\n",
              "/* Toggleable label */\n",
              "#sk-container-id-1 label.sk-toggleable__label {\n",
              "  cursor: pointer;\n",
              "  display: flex;\n",
              "  width: 100%;\n",
              "  margin-bottom: 0;\n",
              "  padding: 0.5em;\n",
              "  box-sizing: border-box;\n",
              "  text-align: center;\n",
              "  align-items: start;\n",
              "  justify-content: space-between;\n",
              "  gap: 0.5em;\n",
              "}\n",
              "\n",
              "#sk-container-id-1 label.sk-toggleable__label .caption {\n",
              "  font-size: 0.6rem;\n",
              "  font-weight: lighter;\n",
              "  color: var(--sklearn-color-text-muted);\n",
              "}\n",
              "\n",
              "#sk-container-id-1 label.sk-toggleable__label-arrow:before {\n",
              "  /* Arrow on the left of the label */\n",
              "  content: \"▸\";\n",
              "  float: left;\n",
              "  margin-right: 0.25em;\n",
              "  color: var(--sklearn-color-icon);\n",
              "}\n",
              "\n",
              "#sk-container-id-1 label.sk-toggleable__label-arrow:hover:before {\n",
              "  color: var(--sklearn-color-text);\n",
              "}\n",
              "\n",
              "/* Toggleable content - dropdown */\n",
              "\n",
              "#sk-container-id-1 div.sk-toggleable__content {\n",
              "  max-height: 0;\n",
              "  max-width: 0;\n",
              "  overflow: hidden;\n",
              "  text-align: left;\n",
              "  /* unfitted */\n",
              "  background-color: var(--sklearn-color-unfitted-level-0);\n",
              "}\n",
              "\n",
              "#sk-container-id-1 div.sk-toggleable__content.fitted {\n",
              "  /* fitted */\n",
              "  background-color: var(--sklearn-color-fitted-level-0);\n",
              "}\n",
              "\n",
              "#sk-container-id-1 div.sk-toggleable__content pre {\n",
              "  margin: 0.2em;\n",
              "  border-radius: 0.25em;\n",
              "  color: var(--sklearn-color-text);\n",
              "  /* unfitted */\n",
              "  background-color: var(--sklearn-color-unfitted-level-0);\n",
              "}\n",
              "\n",
              "#sk-container-id-1 div.sk-toggleable__content.fitted pre {\n",
              "  /* unfitted */\n",
              "  background-color: var(--sklearn-color-fitted-level-0);\n",
              "}\n",
              "\n",
              "#sk-container-id-1 input.sk-toggleable__control:checked~div.sk-toggleable__content {\n",
              "  /* Expand drop-down */\n",
              "  max-height: 200px;\n",
              "  max-width: 100%;\n",
              "  overflow: auto;\n",
              "}\n",
              "\n",
              "#sk-container-id-1 input.sk-toggleable__control:checked~label.sk-toggleable__label-arrow:before {\n",
              "  content: \"▾\";\n",
              "}\n",
              "\n",
              "/* Pipeline/ColumnTransformer-specific style */\n",
              "\n",
              "#sk-container-id-1 div.sk-label input.sk-toggleable__control:checked~label.sk-toggleable__label {\n",
              "  color: var(--sklearn-color-text);\n",
              "  background-color: var(--sklearn-color-unfitted-level-2);\n",
              "}\n",
              "\n",
              "#sk-container-id-1 div.sk-label.fitted input.sk-toggleable__control:checked~label.sk-toggleable__label {\n",
              "  background-color: var(--sklearn-color-fitted-level-2);\n",
              "}\n",
              "\n",
              "/* Estimator-specific style */\n",
              "\n",
              "/* Colorize estimator box */\n",
              "#sk-container-id-1 div.sk-estimator input.sk-toggleable__control:checked~label.sk-toggleable__label {\n",
              "  /* unfitted */\n",
              "  background-color: var(--sklearn-color-unfitted-level-2);\n",
              "}\n",
              "\n",
              "#sk-container-id-1 div.sk-estimator.fitted input.sk-toggleable__control:checked~label.sk-toggleable__label {\n",
              "  /* fitted */\n",
              "  background-color: var(--sklearn-color-fitted-level-2);\n",
              "}\n",
              "\n",
              "#sk-container-id-1 div.sk-label label.sk-toggleable__label,\n",
              "#sk-container-id-1 div.sk-label label {\n",
              "  /* The background is the default theme color */\n",
              "  color: var(--sklearn-color-text-on-default-background);\n",
              "}\n",
              "\n",
              "/* On hover, darken the color of the background */\n",
              "#sk-container-id-1 div.sk-label:hover label.sk-toggleable__label {\n",
              "  color: var(--sklearn-color-text);\n",
              "  background-color: var(--sklearn-color-unfitted-level-2);\n",
              "}\n",
              "\n",
              "/* Label box, darken color on hover, fitted */\n",
              "#sk-container-id-1 div.sk-label.fitted:hover label.sk-toggleable__label.fitted {\n",
              "  color: var(--sklearn-color-text);\n",
              "  background-color: var(--sklearn-color-fitted-level-2);\n",
              "}\n",
              "\n",
              "/* Estimator label */\n",
              "\n",
              "#sk-container-id-1 div.sk-label label {\n",
              "  font-family: monospace;\n",
              "  font-weight: bold;\n",
              "  display: inline-block;\n",
              "  line-height: 1.2em;\n",
              "}\n",
              "\n",
              "#sk-container-id-1 div.sk-label-container {\n",
              "  text-align: center;\n",
              "}\n",
              "\n",
              "/* Estimator-specific */\n",
              "#sk-container-id-1 div.sk-estimator {\n",
              "  font-family: monospace;\n",
              "  border: 1px dotted var(--sklearn-color-border-box);\n",
              "  border-radius: 0.25em;\n",
              "  box-sizing: border-box;\n",
              "  margin-bottom: 0.5em;\n",
              "  /* unfitted */\n",
              "  background-color: var(--sklearn-color-unfitted-level-0);\n",
              "}\n",
              "\n",
              "#sk-container-id-1 div.sk-estimator.fitted {\n",
              "  /* fitted */\n",
              "  background-color: var(--sklearn-color-fitted-level-0);\n",
              "}\n",
              "\n",
              "/* on hover */\n",
              "#sk-container-id-1 div.sk-estimator:hover {\n",
              "  /* unfitted */\n",
              "  background-color: var(--sklearn-color-unfitted-level-2);\n",
              "}\n",
              "\n",
              "#sk-container-id-1 div.sk-estimator.fitted:hover {\n",
              "  /* fitted */\n",
              "  background-color: var(--sklearn-color-fitted-level-2);\n",
              "}\n",
              "\n",
              "/* Specification for estimator info (e.g. \"i\" and \"?\") */\n",
              "\n",
              "/* Common style for \"i\" and \"?\" */\n",
              "\n",
              ".sk-estimator-doc-link,\n",
              "a:link.sk-estimator-doc-link,\n",
              "a:visited.sk-estimator-doc-link {\n",
              "  float: right;\n",
              "  font-size: smaller;\n",
              "  line-height: 1em;\n",
              "  font-family: monospace;\n",
              "  background-color: var(--sklearn-color-background);\n",
              "  border-radius: 1em;\n",
              "  height: 1em;\n",
              "  width: 1em;\n",
              "  text-decoration: none !important;\n",
              "  margin-left: 0.5em;\n",
              "  text-align: center;\n",
              "  /* unfitted */\n",
              "  border: var(--sklearn-color-unfitted-level-1) 1pt solid;\n",
              "  color: var(--sklearn-color-unfitted-level-1);\n",
              "}\n",
              "\n",
              ".sk-estimator-doc-link.fitted,\n",
              "a:link.sk-estimator-doc-link.fitted,\n",
              "a:visited.sk-estimator-doc-link.fitted {\n",
              "  /* fitted */\n",
              "  border: var(--sklearn-color-fitted-level-1) 1pt solid;\n",
              "  color: var(--sklearn-color-fitted-level-1);\n",
              "}\n",
              "\n",
              "/* On hover */\n",
              "div.sk-estimator:hover .sk-estimator-doc-link:hover,\n",
              ".sk-estimator-doc-link:hover,\n",
              "div.sk-label-container:hover .sk-estimator-doc-link:hover,\n",
              ".sk-estimator-doc-link:hover {\n",
              "  /* unfitted */\n",
              "  background-color: var(--sklearn-color-unfitted-level-3);\n",
              "  color: var(--sklearn-color-background);\n",
              "  text-decoration: none;\n",
              "}\n",
              "\n",
              "div.sk-estimator.fitted:hover .sk-estimator-doc-link.fitted:hover,\n",
              ".sk-estimator-doc-link.fitted:hover,\n",
              "div.sk-label-container:hover .sk-estimator-doc-link.fitted:hover,\n",
              ".sk-estimator-doc-link.fitted:hover {\n",
              "  /* fitted */\n",
              "  background-color: var(--sklearn-color-fitted-level-3);\n",
              "  color: var(--sklearn-color-background);\n",
              "  text-decoration: none;\n",
              "}\n",
              "\n",
              "/* Span, style for the box shown on hovering the info icon */\n",
              ".sk-estimator-doc-link span {\n",
              "  display: none;\n",
              "  z-index: 9999;\n",
              "  position: relative;\n",
              "  font-weight: normal;\n",
              "  right: .2ex;\n",
              "  padding: .5ex;\n",
              "  margin: .5ex;\n",
              "  width: min-content;\n",
              "  min-width: 20ex;\n",
              "  max-width: 50ex;\n",
              "  color: var(--sklearn-color-text);\n",
              "  box-shadow: 2pt 2pt 4pt #999;\n",
              "  /* unfitted */\n",
              "  background: var(--sklearn-color-unfitted-level-0);\n",
              "  border: .5pt solid var(--sklearn-color-unfitted-level-3);\n",
              "}\n",
              "\n",
              ".sk-estimator-doc-link.fitted span {\n",
              "  /* fitted */\n",
              "  background: var(--sklearn-color-fitted-level-0);\n",
              "  border: var(--sklearn-color-fitted-level-3);\n",
              "}\n",
              "\n",
              ".sk-estimator-doc-link:hover span {\n",
              "  display: block;\n",
              "}\n",
              "\n",
              "/* \"?\"-specific style due to the `<a>` HTML tag */\n",
              "\n",
              "#sk-container-id-1 a.estimator_doc_link {\n",
              "  float: right;\n",
              "  font-size: 1rem;\n",
              "  line-height: 1em;\n",
              "  font-family: monospace;\n",
              "  background-color: var(--sklearn-color-background);\n",
              "  border-radius: 1rem;\n",
              "  height: 1rem;\n",
              "  width: 1rem;\n",
              "  text-decoration: none;\n",
              "  /* unfitted */\n",
              "  color: var(--sklearn-color-unfitted-level-1);\n",
              "  border: var(--sklearn-color-unfitted-level-1) 1pt solid;\n",
              "}\n",
              "\n",
              "#sk-container-id-1 a.estimator_doc_link.fitted {\n",
              "  /* fitted */\n",
              "  border: var(--sklearn-color-fitted-level-1) 1pt solid;\n",
              "  color: var(--sklearn-color-fitted-level-1);\n",
              "}\n",
              "\n",
              "/* On hover */\n",
              "#sk-container-id-1 a.estimator_doc_link:hover {\n",
              "  /* unfitted */\n",
              "  background-color: var(--sklearn-color-unfitted-level-3);\n",
              "  color: var(--sklearn-color-background);\n",
              "  text-decoration: none;\n",
              "}\n",
              "\n",
              "#sk-container-id-1 a.estimator_doc_link.fitted:hover {\n",
              "  /* fitted */\n",
              "  background-color: var(--sklearn-color-fitted-level-3);\n",
              "}\n",
              "</style><div id=\"sk-container-id-1\" class=\"sk-top-container\"><div class=\"sk-text-repr-fallback\"><pre>LogisticRegression()</pre><b>In a Jupyter environment, please rerun this cell to show the HTML representation or trust the notebook. <br />On GitHub, the HTML representation is unable to render, please try loading this page with nbviewer.org.</b></div><div class=\"sk-container\" hidden><div class=\"sk-item\"><div class=\"sk-estimator fitted sk-toggleable\"><input class=\"sk-toggleable__control sk-hidden--visually\" id=\"sk-estimator-id-1\" type=\"checkbox\" checked><label for=\"sk-estimator-id-1\" class=\"sk-toggleable__label fitted sk-toggleable__label-arrow\"><div><div>LogisticRegression</div></div><div><a class=\"sk-estimator-doc-link fitted\" rel=\"noreferrer\" target=\"_blank\" href=\"https://scikit-learn.org/1.6/modules/generated/sklearn.linear_model.LogisticRegression.html\">?<span>Documentation for LogisticRegression</span></a><span class=\"sk-estimator-doc-link fitted\">i<span>Fitted</span></span></div></label><div class=\"sk-toggleable__content fitted\"><pre>LogisticRegression()</pre></div> </div></div></div></div>"
            ]
          },
          "metadata": {},
          "execution_count": 71
        }
      ]
    },
    {
      "cell_type": "markdown",
      "source": [
        "Predicting the target variable using the training model"
      ],
      "metadata": {
        "id": "g0z5NM_WkYCO"
      }
    },
    {
      "cell_type": "code",
      "source": [
        "y_pred=model.predict(X_val)"
      ],
      "metadata": {
        "colab": {
          "base_uri": "https://localhost:8080/",
          "height": 141
        },
        "id": "0KERhxebaOyw",
        "outputId": "edb62e93-0bf6-4618-f47f-70476435592a"
      },
      "execution_count": null,
      "outputs": [
        {
          "output_type": "error",
          "ename": "NameError",
          "evalue": "name 'model' is not defined",
          "traceback": [
            "\u001b[0;31m---------------------------------------------------------------------------\u001b[0m",
            "\u001b[0;31mNameError\u001b[0m                                 Traceback (most recent call last)",
            "\u001b[0;32m<ipython-input-1-a36081e29501>\u001b[0m in \u001b[0;36m<cell line: 0>\u001b[0;34m()\u001b[0m\n\u001b[0;32m----> 1\u001b[0;31m \u001b[0my_pred\u001b[0m\u001b[0;34m=\u001b[0m\u001b[0mmodel\u001b[0m\u001b[0;34m.\u001b[0m\u001b[0mpredict\u001b[0m\u001b[0;34m(\u001b[0m\u001b[0mX_val\u001b[0m\u001b[0;34m)\u001b[0m\u001b[0;34m\u001b[0m\u001b[0;34m\u001b[0m\u001b[0m\n\u001b[0m",
            "\u001b[0;31mNameError\u001b[0m: name 'model' is not defined"
          ]
        }
      ]
    },
    {
      "cell_type": "markdown",
      "source": [
        "Evaluating Model Perfromance Using Accuracy Score and Classifiation Report"
      ],
      "metadata": {
        "id": "aCTOE9_Ilh0L"
      }
    },
    {
      "cell_type": "code",
      "source": [
        "from sklearn.metrics import accuracy_score, classification_report\n",
        "print(\"Accuracy:\",accuracy_score(y_val,y_pred))\n",
        "print(\"Classification Report:\\n\",classification_report(y_val,y_pred))"
      ],
      "metadata": {
        "colab": {
          "base_uri": "https://localhost:8080/"
        },
        "id": "FgmsbI3Ma2-t",
        "outputId": "382fea87-947a-41ae-abbf-0d7d917790e4"
      },
      "execution_count": null,
      "outputs": [
        {
          "output_type": "stream",
          "name": "stdout",
          "text": [
            "Accuracy: 0.8100558659217877\n",
            "Classification Report:\n",
            "               precision    recall  f1-score   support\n",
            "\n",
            "           0       0.83      0.86      0.84       105\n",
            "           1       0.79      0.74      0.76        74\n",
            "\n",
            "    accuracy                           0.81       179\n",
            "   macro avg       0.81      0.80      0.80       179\n",
            "weighted avg       0.81      0.81      0.81       179\n",
            "\n"
          ]
        }
      ]
    },
    {
      "cell_type": "markdown",
      "source": [
        "Saving the trained model using joblib"
      ],
      "metadata": {
        "id": "-CQFIaximVtP"
      }
    },
    {
      "cell_type": "code",
      "source": [
        "import joblib\n",
        "joblib.dump(model,'titanic_model.pkl')"
      ],
      "metadata": {
        "colab": {
          "base_uri": "https://localhost:8080/"
        },
        "id": "zfCoScvWevQ7",
        "outputId": "cca5b591-72cd-42a7-af03-eedd2c1af0be"
      },
      "execution_count": null,
      "outputs": [
        {
          "output_type": "execute_result",
          "data": {
            "text/plain": [
              "['titanic_model.pkl']"
            ]
          },
          "metadata": {},
          "execution_count": 74
        }
      ]
    },
    {
      "cell_type": "code",
      "source": [
        "test_processed=test_df.copy()"
      ],
      "metadata": {
        "id": "DE_C_DrApJbJ"
      },
      "execution_count": null,
      "outputs": []
    },
    {
      "cell_type": "markdown",
      "source": [
        "Handling missing values:Filling Numeric and categorical columns"
      ],
      "metadata": {
        "id": "_WnOLj8zmy3X"
      }
    },
    {
      "cell_type": "code",
      "source": [
        "# Fill numeric with mean\n",
        "for col in test_processed.select_dtypes(include=['float64', 'int64']).columns:\n",
        "    test_processed[col] = test_processed[col].fillna(test_processed[col].mean())\n",
        "\n",
        "# Fill categorical with mode\n",
        "for col in test_processed.select_dtypes(include=['object', 'category']).columns:\n",
        "    test_processed[col] = test_processed[col].fillna(test_processed[col].mode()[0])"
      ],
      "metadata": {
        "id": "ByE9VcGRwdDb"
      },
      "execution_count": null,
      "outputs": []
    },
    {
      "cell_type": "markdown",
      "source": [
        "Checking missing values in test data"
      ],
      "metadata": {
        "id": "bgB5T6f1tyml"
      }
    },
    {
      "cell_type": "code",
      "source": [
        "print(test_processed.isnull().sum().sum())"
      ],
      "metadata": {
        "colab": {
          "base_uri": "https://localhost:8080/"
        },
        "id": "PRS3qOIIwozb",
        "outputId": "1cc30d34-6aba-49d6-f1a0-42e03c30463b"
      },
      "execution_count": null,
      "outputs": [
        {
          "output_type": "stream",
          "name": "stdout",
          "text": [
            "0\n"
          ]
        }
      ]
    },
    {
      "cell_type": "markdown",
      "source": [
        "Overview of test data structure"
      ],
      "metadata": {
        "id": "KxbMLhF7uIcY"
      }
    },
    {
      "cell_type": "code",
      "source": [
        "test_processed.info()"
      ],
      "metadata": {
        "colab": {
          "base_uri": "https://localhost:8080/"
        },
        "id": "mChtmC4ZwxN6",
        "outputId": "18639c79-a69a-4d06-c4c0-a2939cd30d62"
      },
      "execution_count": null,
      "outputs": [
        {
          "output_type": "stream",
          "name": "stdout",
          "text": [
            "<class 'pandas.core.frame.DataFrame'>\n",
            "RangeIndex: 418 entries, 0 to 417\n",
            "Data columns (total 9 columns):\n",
            " #   Column       Non-Null Count  Dtype   \n",
            "---  ------       --------------  -----   \n",
            " 0   Pclass       418 non-null    category\n",
            " 1   Sex          418 non-null    int64   \n",
            " 2   Age          418 non-null    float64 \n",
            " 3   SibSp        418 non-null    int64   \n",
            " 4   Parch        418 non-null    int64   \n",
            " 5   Fare         418 non-null    float64 \n",
            " 6   Embarked     418 non-null    int64   \n",
            " 7   Age_scaled   418 non-null    float64 \n",
            " 8   Fare_scaled  418 non-null    float64 \n",
            "dtypes: category(1), float64(4), int64(4)\n",
            "memory usage: 26.8 KB\n"
          ]
        }
      ]
    },
    {
      "cell_type": "markdown",
      "source": [
        "Extracting feature columns for prediction"
      ],
      "metadata": {
        "id": "ESGA94Jrufhr"
      }
    },
    {
      "cell_type": "code",
      "source": [
        "print(X_train.columns.tolist())"
      ],
      "metadata": {
        "colab": {
          "base_uri": "https://localhost:8080/"
        },
        "id": "G37ol9SnyYS5",
        "outputId": "529f75d2-6c19-49b1-c3da-d42db536e7c0"
      },
      "execution_count": null,
      "outputs": [
        {
          "output_type": "stream",
          "name": "stdout",
          "text": [
            "['Pclass', 'Sex', 'Age', 'SibSp', 'Parch', 'Fare', 'Embarked', 'Age_scaled', 'Fare_scaled']\n"
          ]
        }
      ]
    },
    {
      "cell_type": "markdown",
      "source": [
        "Extracting and printing training data columns"
      ],
      "metadata": {
        "id": "CQLkox9Wyq_c"
      }
    },
    {
      "cell_type": "code",
      "source": [
        "training_columns = train_df.columns.tolist()\n",
        "print(training_columns)"
      ],
      "metadata": {
        "colab": {
          "base_uri": "https://localhost:8080/"
        },
        "id": "LiyHh9Pby__j",
        "outputId": "e9e86ae1-e64d-4b70-e5de-70f749d793de"
      },
      "execution_count": null,
      "outputs": [
        {
          "output_type": "stream",
          "name": "stdout",
          "text": [
            "['Survived', 'Pclass', 'Sex', 'Age', 'SibSp', 'Parch', 'Fare', 'Embarked', 'Age_scaled', 'Fare_scaled']\n"
          ]
        }
      ]
    },
    {
      "cell_type": "markdown",
      "source": [
        "Removing 'Survived' column from training dataset"
      ],
      "metadata": {
        "id": "gTdpNPJW1ML-"
      }
    },
    {
      "cell_type": "code",
      "source": [
        "training_columns.remove('Survived')"
      ],
      "metadata": {
        "id": "0IOEMG_y1Esd"
      },
      "execution_count": null,
      "outputs": []
    },
    {
      "cell_type": "markdown",
      "source": [
        "Applying test data columns with training data columns"
      ],
      "metadata": {
        "id": "Arm5cN56zAZM"
      }
    },
    {
      "cell_type": "code",
      "source": [
        "test_processed = test_processed[X_train.columns]"
      ],
      "metadata": {
        "id": "pzrFV7TozVbK"
      },
      "execution_count": null,
      "outputs": []
    },
    {
      "cell_type": "markdown",
      "source": [
        "Displaying feature columns after dropping target column"
      ],
      "metadata": {
        "id": "zwYh3wl66SYY"
      }
    },
    {
      "cell_type": "code",
      "source": [
        "print(train_df.drop('Survived',axis=1).columns.tolist())"
      ],
      "metadata": {
        "colab": {
          "base_uri": "https://localhost:8080/"
        },
        "id": "0eogDLnp2OFg",
        "outputId": "6e1d4994-edb2-4acf-ba30-0176b936152d"
      },
      "execution_count": null,
      "outputs": [
        {
          "output_type": "stream",
          "name": "stdout",
          "text": [
            "['Pclass', 'Sex', 'Age', 'SibSp', 'Parch', 'Fare', 'Embarked', 'Age_scaled', 'Fare_scaled']\n"
          ]
        }
      ]
    },
    {
      "cell_type": "markdown",
      "source": [
        "Displaying columns in test dataset"
      ],
      "metadata": {
        "id": "VGKhMVt76i3i"
      }
    },
    {
      "cell_type": "code",
      "source": [
        "print(test_processed.columns.tolist())"
      ],
      "metadata": {
        "colab": {
          "base_uri": "https://localhost:8080/"
        },
        "id": "5xwT1l1S2OYF",
        "outputId": "3b51cdb1-12aa-42ec-8e25-7da4aeeba11e"
      },
      "execution_count": null,
      "outputs": [
        {
          "output_type": "stream",
          "name": "stdout",
          "text": [
            "['Pclass', 'Sex', 'Age', 'SibSp', 'Parch', 'Fare', 'Embarked', 'Age_scaled', 'Fare_scaled']\n"
          ]
        }
      ]
    },
    {
      "cell_type": "markdown",
      "source": [
        "Checking coulmn names in test data and comparing with training data coulmns"
      ],
      "metadata": {
        "id": "kmeJmIlD6_AQ"
      }
    },
    {
      "cell_type": "code",
      "source": [
        "print(\"Columns in test_processed:\", test_processed.columns.tolist())\n",
        "print(\"Columns scaler expects:\", training_columns)"
      ],
      "metadata": {
        "colab": {
          "base_uri": "https://localhost:8080/"
        },
        "id": "Kh9t2p6W4uG9",
        "outputId": "a76a9530-3fc7-4cba-c157-e4ceb7e0b50e"
      },
      "execution_count": null,
      "outputs": [
        {
          "output_type": "stream",
          "name": "stdout",
          "text": [
            "Columns in test_processed: ['Pclass', 'Sex', 'Age', 'SibSp', 'Parch', 'Fare', 'Embarked', 'Age_scaled', 'Fare_scaled']\n",
            "Columns scaler expects: ['Pclass', 'Sex', 'Age', 'SibSp', 'Parch', 'Fare', 'Embarked', 'Age_scaled', 'Fare_scaled']\n"
          ]
        }
      ]
    },
    {
      "cell_type": "markdown",
      "source": [
        "Aliginig test data coulmns with training data columns"
      ],
      "metadata": {
        "id": "p--E6nu97Qlk"
      }
    },
    {
      "cell_type": "code",
      "source": [
        "test_processed=test_processed[training_columns]"
      ],
      "metadata": {
        "id": "joKB_jXT3uUL"
      },
      "execution_count": null,
      "outputs": []
    },
    {
      "cell_type": "markdown",
      "source": [
        "Extracting and scaling numeric columns in test data"
      ],
      "metadata": {
        "id": "i93bjF0x7flC"
      }
    },
    {
      "cell_type": "code",
      "source": [
        "\n",
        "# Step 1: Select numeric columns you scaled in training\n",
        "cols_to_scale = ['Age', 'Fare']  # Replace with your actual numeric columns used for scaling\n",
        "\n",
        "# Step 2: Extract those columns from test_processed\n",
        "test_numeric = test_processed[cols_to_scale]\n",
        "\n",
        "# Step 3: Scale only these numeric columns\n",
        "test_scaled_numeric = scaler.transform(test_numeric)\n",
        "\n",
        "# Step 4: Put scaled values back into test_processed dataframe\n",
        "test_processed.loc[:, cols_to_scale] = test_scaled_numeric\n",
        "\n",
        "# Now, use test_processed directly for prediction\n",
        "predictions = model.predict(test_processed)\n"
      ],
      "metadata": {
        "id": "JYqMIXRCzdUI"
      },
      "execution_count": null,
      "outputs": []
    },
    {
      "cell_type": "markdown",
      "source": [
        "Displaying predictions made by the model"
      ],
      "metadata": {
        "id": "3eIMQvUi7ulT"
      }
    },
    {
      "cell_type": "code",
      "source": [
        "print(predictions)"
      ],
      "metadata": {
        "colab": {
          "base_uri": "https://localhost:8080/"
        },
        "id": "lvU8FkULzqkv",
        "outputId": "b777a44b-5b20-472c-a334-519378dbc088"
      },
      "execution_count": null,
      "outputs": [
        {
          "output_type": "stream",
          "name": "stdout",
          "text": [
            "[0 0 0 0 1 0 1 0 1 0 0 0 1 0 1 1 0 0 1 1 0 0 1 1 1 0 1 0 0 0 0 0 0 1 0 0 1\n",
            " 1 0 0 0 0 0 1 1 0 0 0 1 1 0 0 1 1 0 0 0 0 0 1 0 0 0 1 1 1 1 0 1 1 1 0 1 1\n",
            " 1 1 0 1 0 1 0 0 0 0 0 0 1 1 1 0 1 0 1 0 1 0 1 0 1 0 1 0 0 0 1 0 0 0 0 0 0\n",
            " 1 1 1 1 0 0 1 1 1 1 0 1 0 0 1 0 1 0 0 0 0 1 0 0 0 0 0 1 0 0 1 0 0 0 0 0 0\n",
            " 0 0 1 0 0 1 0 0 1 1 0 1 1 0 1 0 0 1 0 0 1 1 0 0 0 0 0 1 1 0 1 1 0 0 1 0 1\n",
            " 0 1 0 0 0 0 0 0 0 0 0 1 1 0 1 1 0 0 1 0 1 1 0 1 0 0 0 0 1 0 0 1 0 1 0 1 0\n",
            " 1 0 1 1 0 1 0 0 0 1 0 0 0 0 0 0 1 1 1 1 0 0 0 0 1 0 1 1 1 0 1 0 0 0 0 0 1\n",
            " 0 0 0 1 1 0 0 0 0 1 0 0 0 1 1 0 1 0 0 0 0 1 0 1 1 1 0 0 0 0 0 0 1 0 0 0 0\n",
            " 1 0 0 0 0 0 0 0 1 1 0 0 0 0 0 0 0 1 1 1 0 0 0 0 0 0 0 0 1 0 1 0 0 0 1 0 0\n",
            " 1 0 0 0 0 0 0 0 0 0 1 0 1 0 1 0 1 1 0 0 0 1 0 1 0 0 1 0 1 1 0 1 0 0 1 1 0\n",
            " 0 1 0 0 1 1 1 0 0 0 0 0 1 1 0 1 0 0 0 0 1 1 0 0 0 1 0 1 0 0 1 0 1 1 0 0 0\n",
            " 0 1 1 1 1 1 0 1 0 0 0]\n"
          ]
        }
      ]
    },
    {
      "cell_type": "markdown",
      "source": [
        "Displaying test data columns"
      ],
      "metadata": {
        "id": "kYPVK6sNzmT5"
      }
    },
    {
      "cell_type": "code",
      "source": [
        "print(test_df.columns)"
      ],
      "metadata": {
        "colab": {
          "base_uri": "https://localhost:8080/"
        },
        "id": "rX3ZObbg0CdB",
        "outputId": "9aeddedf-c8ad-4ca9-f058-88732081c7c3"
      },
      "execution_count": null,
      "outputs": [
        {
          "output_type": "stream",
          "name": "stdout",
          "text": [
            "Index(['Pclass', 'Sex', 'Age', 'SibSp', 'Parch', 'Fare', 'Embarked',\n",
            "       'Age_scaled', 'Fare_scaled'],\n",
            "      dtype='object')\n"
          ]
        }
      ]
    },
    {
      "cell_type": "markdown",
      "source": [
        "Creating the Submission file for final prediction output"
      ],
      "metadata": {
        "id": "zLpwLHJjz8Yi"
      }
    },
    {
      "cell_type": "code",
      "source": [
        "output = pd.DataFrame({\n",
        "    'PassengerId': range(892, 892 + len(predictions)),  # Start from 892 if using Titanic dataset\n",
        "    'Survived': predictions\n",
        "})\n",
        "output.to_csv('submission.csv', index=False)"
      ],
      "metadata": {
        "id": "veyVhhmC0ZaX"
      },
      "execution_count": null,
      "outputs": []
    }
  ]
}